{
 "cells": [
  {
   "cell_type": "code",
   "execution_count": 1,
   "id": "293ae0de-b6c9-4082-9b3a-379d9c930893",
   "metadata": {},
   "outputs": [],
   "source": [
    "import pandas as pd"
   ]
  },
  {
   "cell_type": "code",
   "execution_count": 3,
   "id": "268193fc-8cf0-4250-90e1-9acaa0de78e2",
   "metadata": {},
   "outputs": [
    {
     "name": "stdout",
     "output_type": "stream",
     "text": [
      "Age                         float64\n",
      "Turnover                     object\n",
      "BusinessTravel               object\n",
      "DailyRate                     int64\n",
      "Department                   object\n",
      "DistanceFromHome              int64\n",
      "Education                     int64\n",
      "EducationField               object\n",
      "EmployeeCount                 int64\n",
      "EmployeeNumber                int64\n",
      "EnvironmentSatisfaction       int64\n",
      "Gender                       object\n",
      "HourlyRate                    int64\n",
      "JobInvolvement                int64\n",
      "JobLevel                      int64\n",
      "JobRole                      object\n",
      "JobSatisfaction               int64\n",
      "MaritalStatus                object\n",
      "MonthlyIncome               float64\n",
      "MonthlyRate                 float64\n",
      "NumCompaniesWorked          float64\n",
      "Over18                       object\n",
      "OverTime                     object\n",
      "PercentSalaryHike             int64\n",
      "PerformanceRating             int64\n",
      "RelationshipSatisfaction      int64\n",
      "StandardHours                 int64\n",
      "StockOptionLevel              int64\n",
      "TotalWorkingYears           float64\n",
      "TrainingTimesLastYear       float64\n",
      "WorkLifeBalance               int64\n",
      "YearsAtCompany                int64\n",
      "YearsInCurrentRole            int64\n",
      "YearsSinceLastPromotion     float64\n",
      "YearsWithCurrManager         object\n",
      "dtype: object\n"
     ]
    }
   ],
   "source": [
    "file_path = r\"C:\\Users\\18014\\Desktop\\Masters\\D599 - Data Preparation and Exploration\\Employee Turnover Dataset.xlsx\"\n",
    "\n",
    "df = pd.read_excel(file_path)\n",
    "\n",
    "print(df.dtypes)\n"
   ]
  },
  {
   "cell_type": "code",
   "execution_count": 5,
   "id": "6f4804f3-770a-441b-ac62-e4b717e7aaf7",
   "metadata": {},
   "outputs": [
    {
     "name": "stdout",
     "output_type": "stream",
     "text": [
      "Number of duplicate rows: 298\n"
     ]
    }
   ],
   "source": [
    "#Looking for duplicated data\n",
    "num_duplicates = df.duplicated().sum()\n",
    "print(f'Number of duplicate rows: {num_duplicates}')\n"
   ]
  },
  {
   "cell_type": "code",
   "execution_count": 7,
   "id": "ce83166c-1ae4-4cf3-8a26-cd7ee24c8bb6",
   "metadata": {},
   "outputs": [
    {
     "name": "stdout",
     "output_type": "stream",
     "text": [
      "        Age Turnover BusinessTravel  DailyRate              Department  \\\n",
      "712    22.0       No  Travel_Rarely        611                   Sales   \n",
      "985    42.0       No     Non-Travel        568                   Sales   \n",
      "1022   28.0      Yes  Travel_Rarely        406  Research & Development   \n",
      "1033   29.0      Yes     Non-Travel        492                 Support   \n",
      "1212   41.0      Yes  Travel_Rarely        711                Hardware   \n",
      "...     ...      ...            ...        ...                     ...   \n",
      "10272  43.0       No     Non-Travel        567                 Support   \n",
      "10275  47.0      Yes     Non-Travel       1034                Hardware   \n",
      "10290  27.0       No     Non-Travel        202  Research & Development   \n",
      "10291  27.0       No  Travel_Rarely        649                Hardware   \n",
      "10319  32.0       No     Non-Travel        145                Hardware   \n",
      "\n",
      "       DistanceFromHome  Education    EducationField  EmployeeCount  \\\n",
      "712                  33          2             Other              1   \n",
      "985                  50          1     Life Sciences              1   \n",
      "1022                 38          1  Technical Degree              1   \n",
      "1033                 49          5         Marketing              1   \n",
      "1212                 49          5   Human Resources              1   \n",
      "...                 ...        ...               ...            ...   \n",
      "10272                43          5   Human Resources              1   \n",
      "10275                 2          4     Life Sciences              1   \n",
      "10290                16          5         Marketing              1   \n",
      "10291                44          4   Human Resources              1   \n",
      "10319                49          1             Other              1   \n",
      "\n",
      "       EmployeeNumber  ...  RelationshipSatisfaction StandardHours  \\\n",
      "712               416  ...                         3            80   \n",
      "985              9921  ...                         3            80   \n",
      "1022             5528  ...                         2            80   \n",
      "1033             5587  ...                         1            80   \n",
      "1212             9892  ...                         2            80   \n",
      "...               ...  ...                       ...           ...   \n",
      "10272            9851  ...                         2            80   \n",
      "10275            9951  ...                         1            80   \n",
      "10290            9920  ...                         4            80   \n",
      "10291            9908  ...                         3            80   \n",
      "10319            9885  ...                         3            80   \n",
      "\n",
      "       StockOptionLevel  TotalWorkingYears  TrainingTimesLastYear  \\\n",
      "712                   4                5.0                    5.0   \n",
      "985                   1               10.0                    3.0   \n",
      "1022                  2               38.0                    3.0   \n",
      "1033                  4               13.0                    4.0   \n",
      "1212                  3                9.0                    1.0   \n",
      "...                 ...                ...                    ...   \n",
      "10272                 3                1.0                    1.0   \n",
      "10275                 4                3.0                    4.0   \n",
      "10290                 2               23.0                    1.0   \n",
      "10291                 1               20.0                    6.0   \n",
      "10319                 4               22.0                    5.0   \n",
      "\n",
      "      WorkLifeBalance  YearsAtCompany YearsInCurrentRole  \\\n",
      "712                 2               5                  2   \n",
      "985                 3               4                  2   \n",
      "1022                3              23                 19   \n",
      "1033                1               9                  6   \n",
      "1212                3               7                  4   \n",
      "...               ...             ...                ...   \n",
      "10272               1               1                  1   \n",
      "10275               1               1                  1   \n",
      "10290               3               5                  5   \n",
      "10291               2               3                  3   \n",
      "10319               4              17                 11   \n",
      "\n",
      "       YearsSinceLastPromotion  YearsWithCurrManager  \n",
      "712                        5.0                     3  \n",
      "985                        1.0                     3  \n",
      "1022                      11.0                     7  \n",
      "1033                       9.0                     7  \n",
      "1212                       5.0                     2  \n",
      "...                        ...                   ...  \n",
      "10272                      1.0                     1  \n",
      "10275                      1.0                     1  \n",
      "10290                      5.0                     4  \n",
      "10291                      1.0                     3  \n",
      "10319                     13.0                     2  \n",
      "\n",
      "[298 rows x 35 columns]\n"
     ]
    }
   ],
   "source": [
    "#Listing the duplicate rows\n",
    "duplicate_rows = df[df.duplicated()]\n",
    "print(duplicate_rows)"
   ]
  },
  {
   "cell_type": "code",
   "execution_count": 9,
   "id": "5989cda5-3673-4c6a-8237-2572d0cebc61",
   "metadata": {},
   "outputs": [
    {
     "name": "stdout",
     "output_type": "stream",
     "text": [
      "        Age Turnover     BusinessTravel  DailyRate              Department  \\\n",
      "0      33.0      Yes         Non-Travel        241                Hardware   \n",
      "1      35.0      Yes         Non-Travel        679                 Support   \n",
      "2      27.0      Yes  Travel_Frequently        359                Hardware   \n",
      "3      44.0       No      Travel_Rarely       1133                Software   \n",
      "4      56.0       No      Travel_Rarely        118                Software   \n",
      "...     ...      ...                ...        ...                     ...   \n",
      "10316  19.0      Yes         Non-Travel        105  Research & Development   \n",
      "10317  23.0       No      Travel_Rarely       1373                   Sales   \n",
      "10318  47.0      Yes         Non-Travel       1250         Human Resources   \n",
      "10320  47.0      Yes      Travel_Rarely        486                Hardware   \n",
      "10321  40.0      Yes  Travel_Frequently       1213                Hardware   \n",
      "\n",
      "       DistanceFromHome  Education    EducationField  EmployeeCount  \\\n",
      "0                    16          3  Technical Degree              1   \n",
      "1                     7          2     Life Sciences              1   \n",
      "2                    50          1     Life Sciences              1   \n",
      "3                    12          5     Life Sciences              1   \n",
      "4                    43          2   Human Resources              1   \n",
      "...                 ...        ...               ...            ...   \n",
      "10316                24          1           Medical              1   \n",
      "10317                 2          3   Human Resources              1   \n",
      "10318                27          3           Medical              1   \n",
      "10320                44          5             Other              1   \n",
      "10321                33          1  Technical Degree              1   \n",
      "\n",
      "       EmployeeNumber  ...  RelationshipSatisfaction StandardHours  \\\n",
      "0                3505  ...                         1            80   \n",
      "1                1129  ...                         1            80   \n",
      "2                6305  ...                         4            80   \n",
      "3                4595  ...                         4            80   \n",
      "4                7203  ...                         2            80   \n",
      "...               ...  ...                       ...           ...   \n",
      "10316            4122  ...                         1            80   \n",
      "10317            9552  ...                         1            80   \n",
      "10318            4546  ...                         4            80   \n",
      "10320            4636  ...                         3            80   \n",
      "10321            5122  ...                         3            80   \n",
      "\n",
      "       StockOptionLevel  TotalWorkingYears  TrainingTimesLastYear  \\\n",
      "0                     4               35.0                    4.0   \n",
      "1                     1                5.0                    1.0   \n",
      "2                     4               10.0                    4.0   \n",
      "3                     3               19.0                    4.0   \n",
      "4                     1                3.0                    3.0   \n",
      "...                 ...                ...                    ...   \n",
      "10316                 1               26.0                    6.0   \n",
      "10317                 4               26.0                    4.0   \n",
      "10318                 1               19.0                    6.0   \n",
      "10320                 3               12.0                    6.0   \n",
      "10321                 4               29.0                    3.0   \n",
      "\n",
      "      WorkLifeBalance  YearsAtCompany YearsInCurrentRole  \\\n",
      "0                   4              13                  2   \n",
      "1                   1               4                  3   \n",
      "2                   2               4                  2   \n",
      "3                   1              14                  7   \n",
      "4                   4               1                  1   \n",
      "...               ...             ...                ...   \n",
      "10316               4               8                  8   \n",
      "10317               3               1                  1   \n",
      "10318               2              17                  1   \n",
      "10320               4               7                  5   \n",
      "10321               4              29                 27   \n",
      "\n",
      "       YearsSinceLastPromotion  YearsWithCurrManager  \n",
      "0                          8.0                    11  \n",
      "1                          3.0                     4  \n",
      "2                          4.0                     2  \n",
      "3                         12.0                     2  \n",
      "4                          1.0                     1  \n",
      "...                        ...                   ...  \n",
      "10316                      3.0                     5  \n",
      "10317                      1.0                     1  \n",
      "10318                      8.0                    11  \n",
      "10320                      5.0                     1  \n",
      "10321                     27.0                    18  \n",
      "\n",
      "[10024 rows x 35 columns]\n"
     ]
    }
   ],
   "source": [
    "#There are 298 duplicate rows that should be deleted\n",
    "\n",
    "# Drop all duplicate rows\n",
    "df_cleaned = df.drop_duplicates()\n",
    "\n",
    "# Check the result to ensure duplicates were removed\n",
    "print(df_cleaned)"
   ]
  },
  {
   "cell_type": "code",
   "execution_count": 11,
   "id": "55a7726e-e27d-436c-9679-45c2794976c8",
   "metadata": {},
   "outputs": [
    {
     "name": "stdout",
     "output_type": "stream",
     "text": [
      "Number of duplicate rows: 0\n"
     ]
    }
   ],
   "source": [
    "#Checking again for duplicated data to ensure they were deleted\n",
    "num_duplicates = df_cleaned.duplicated().sum()\n",
    "print(f'Number of duplicate rows: {num_duplicates}')"
   ]
  },
  {
   "cell_type": "code",
   "execution_count": 13,
   "id": "a65294a4-e9df-4f19-9014-b0e7edb22618",
   "metadata": {},
   "outputs": [
    {
     "name": "stdout",
     "output_type": "stream",
     "text": [
      "Age                           1\n",
      "Turnover                      0\n",
      "BusinessTravel                0\n",
      "DailyRate                     0\n",
      "Department                    0\n",
      "DistanceFromHome              0\n",
      "Education                     0\n",
      "EducationField                1\n",
      "EmployeeCount                 0\n",
      "EmployeeNumber                0\n",
      "EnvironmentSatisfaction       0\n",
      "Gender                        3\n",
      "HourlyRate                    0\n",
      "JobInvolvement                0\n",
      "JobLevel                      0\n",
      "JobRole                       0\n",
      "JobSatisfaction               0\n",
      "MaritalStatus                 0\n",
      "MonthlyIncome                 1\n",
      "MonthlyRate                   2\n",
      "NumCompaniesWorked            1\n",
      "Over18                        0\n",
      "OverTime                      0\n",
      "PercentSalaryHike             0\n",
      "PerformanceRating             0\n",
      "RelationshipSatisfaction      0\n",
      "StandardHours                 0\n",
      "StockOptionLevel              0\n",
      "TotalWorkingYears             1\n",
      "TrainingTimesLastYear       418\n",
      "WorkLifeBalance               0\n",
      "YearsAtCompany                0\n",
      "YearsInCurrentRole            0\n",
      "YearsSinceLastPromotion       2\n",
      "YearsWithCurrManager          0\n",
      "dtype: int64\n"
     ]
    }
   ],
   "source": [
    "#Looking for missing data\n",
    "print(df_cleaned.isnull().sum())"
   ]
  },
  {
   "cell_type": "code",
   "execution_count": 15,
   "id": "4b4f81fb-ec77-4428-848f-95dd0d29c7b8",
   "metadata": {},
   "outputs": [
    {
     "name": "stdout",
     "output_type": "stream",
     "text": [
      "Age                         0\n",
      "Turnover                    0\n",
      "BusinessTravel              0\n",
      "DailyRate                   0\n",
      "Department                  0\n",
      "DistanceFromHome            0\n",
      "Education                   0\n",
      "EducationField              0\n",
      "EmployeeCount               0\n",
      "EmployeeNumber              0\n",
      "EnvironmentSatisfaction     0\n",
      "Gender                      0\n",
      "HourlyRate                  0\n",
      "JobInvolvement              0\n",
      "JobLevel                    0\n",
      "JobRole                     0\n",
      "JobSatisfaction             0\n",
      "MaritalStatus               0\n",
      "MonthlyIncome               0\n",
      "MonthlyRate                 0\n",
      "NumCompaniesWorked          0\n",
      "Over18                      0\n",
      "OverTime                    0\n",
      "PercentSalaryHike           0\n",
      "PerformanceRating           0\n",
      "RelationshipSatisfaction    0\n",
      "StandardHours               0\n",
      "StockOptionLevel            0\n",
      "TotalWorkingYears           0\n",
      "TrainingTimesLastYear       0\n",
      "WorkLifeBalance             0\n",
      "YearsAtCompany              0\n",
      "YearsInCurrentRole          0\n",
      "YearsSinceLastPromotion     0\n",
      "YearsWithCurrManager        0\n",
      "dtype: int64\n"
     ]
    }
   ],
   "source": [
    "# Drop all rows with any missing values\n",
    "df_cleaned = df_cleaned.dropna()\n",
    "\n",
    "#Looking for missing data\n",
    "print(df_cleaned.isnull().sum())"
   ]
  },
  {
   "cell_type": "code",
   "execution_count": 17,
   "id": "de54dbaf-dcf6-445d-a7bc-1b383f62ef90",
   "metadata": {},
   "outputs": [
    {
     "name": "stdout",
     "output_type": "stream",
     "text": [
      "Original DataFrame: 10322 rows\n",
      "Cleaned DataFrame: 9597 rows\n"
     ]
    }
   ],
   "source": [
    "# Check the number of rows before and after dropping missing values\n",
    "print(f\"Original DataFrame: {df.shape[0]} rows\")\n",
    "print(f\"Cleaned DataFrame: {df_cleaned.shape[0]} rows\")"
   ]
  },
  {
   "cell_type": "code",
   "execution_count": null,
   "id": "0fe9aa31-2593-44ee-8cbd-a2a4cb446576",
   "metadata": {},
   "outputs": [],
   "source": [
    "#Checking for inconsistent entries, formatting errors, out outliers starts here"
   ]
  },
  {
   "cell_type": "code",
   "execution_count": 19,
   "id": "60176071-5f51-4ff0-8efd-56f393d60950",
   "metadata": {},
   "outputs": [
    {
     "name": "stdout",
     "output_type": "stream",
     "text": [
      "Age\n",
      "48.0    252\n",
      "21.0    248\n",
      "57.0    247\n",
      "28.0    245\n",
      "60.0    242\n",
      "26.0    241\n",
      "41.0    240\n",
      "56.0    237\n",
      "31.0    237\n",
      "39.0    237\n",
      "50.0    234\n",
      "55.0    234\n",
      "49.0    232\n",
      "33.0    232\n",
      "24.0    231\n",
      "46.0    228\n",
      "51.0    228\n",
      "22.0    228\n",
      "23.0    227\n",
      "29.0    225\n",
      "27.0    225\n",
      "34.0    223\n",
      "18.0    223\n",
      "58.0    221\n",
      "54.0    220\n",
      "45.0    217\n",
      "19.0    216\n",
      "42.0    216\n",
      "25.0    216\n",
      "35.0    216\n",
      "43.0    215\n",
      "38.0    212\n",
      "30.0    212\n",
      "36.0    211\n",
      "40.0    211\n",
      "53.0    211\n",
      "47.0    210\n",
      "37.0    209\n",
      "52.0    207\n",
      "59.0    205\n",
      "20.0    200\n",
      "32.0    191\n",
      "44.0    183\n",
      "96.0      1\n",
      "12.0      1\n",
      "Name: count, dtype: int64\n"
     ]
    }
   ],
   "source": [
    "#Check Age column for abnormalities\n",
    "Age_counts = df_cleaned['Age'].value_counts()\n",
    "print(Age_counts)"
   ]
  },
  {
   "cell_type": "code",
   "execution_count": null,
   "id": "7e23baaf-e709-47a3-b7ff-2176d543371c",
   "metadata": {},
   "outputs": [],
   "source": [
    "#It is unlikely there is an employee that is 12 or 96 years old. These should be deleted."
   ]
  },
  {
   "cell_type": "code",
   "execution_count": 21,
   "id": "e6e7bd60-3452-4194-8da1-cd7e8c91a276",
   "metadata": {},
   "outputs": [
    {
     "name": "stdout",
     "output_type": "stream",
     "text": [
      "Age\n",
      "48.0    252\n",
      "21.0    248\n",
      "57.0    247\n",
      "28.0    245\n",
      "60.0    242\n",
      "26.0    241\n",
      "41.0    240\n",
      "56.0    237\n",
      "31.0    237\n",
      "39.0    237\n",
      "50.0    234\n",
      "55.0    234\n",
      "49.0    232\n",
      "33.0    232\n",
      "24.0    231\n",
      "22.0    228\n",
      "46.0    228\n",
      "51.0    228\n",
      "23.0    227\n",
      "29.0    225\n",
      "27.0    225\n",
      "18.0    223\n",
      "34.0    223\n",
      "58.0    221\n",
      "54.0    220\n",
      "45.0    217\n",
      "19.0    216\n",
      "25.0    216\n",
      "35.0    216\n",
      "42.0    216\n",
      "43.0    215\n",
      "38.0    212\n",
      "30.0    212\n",
      "40.0    211\n",
      "53.0    211\n",
      "36.0    211\n",
      "47.0    210\n",
      "37.0    209\n",
      "52.0    207\n",
      "59.0    205\n",
      "20.0    200\n",
      "32.0    191\n",
      "44.0    183\n",
      "Name: count, dtype: int64\n"
     ]
    }
   ],
   "source": [
    "# Filter df_cleaned to keep only the rows where Age is between 18 and 80\n",
    "df_cleaned = df_cleaned[(df_cleaned['Age'] >= 18) & (df_cleaned['Age'] <= 80)]\n",
    "\n",
    "# Reuse code from above to check if the age filtering worked\n",
    "Age_counts = df_cleaned['Age'].value_counts()\n",
    "print(Age_counts)"
   ]
  },
  {
   "cell_type": "code",
   "execution_count": 23,
   "id": "5e532314-7779-4a7d-963e-0353de64728c",
   "metadata": {},
   "outputs": [
    {
     "name": "stdout",
     "output_type": "stream",
     "text": [
      "Turnover\n",
      "No     4914\n",
      "Yes    4681\n",
      "Name: count, dtype: int64\n"
     ]
    }
   ],
   "source": [
    "#Check Turnover for abnormalities\n",
    "Turnover_counts = df_cleaned['Turnover'].value_counts()\n",
    "print(Turnover_counts)"
   ]
  },
  {
   "cell_type": "code",
   "execution_count": null,
   "id": "42db9492-4f7e-400b-90cd-ec3e79eca7fc",
   "metadata": {},
   "outputs": [],
   "source": [
    "#Looks good!"
   ]
  },
  {
   "cell_type": "code",
   "execution_count": 25,
   "id": "dadaf797-d917-4ac8-965f-78ebc916461a",
   "metadata": {},
   "outputs": [
    {
     "name": "stdout",
     "output_type": "stream",
     "text": [
      "BusinessTravel\n",
      "Travel_Rarely        3250\n",
      "Non-Travel           3197\n",
      "Travel_Frequently    3145\n",
      "1                       1\n",
      "-1                      1\n",
      "00                      1\n",
      "Name: count, dtype: int64\n"
     ]
    }
   ],
   "source": [
    "#Check BusinessTravel for abnormalities\n",
    "BusinessTravel_counts = df_cleaned['BusinessTravel'].value_counts()\n",
    "print(BusinessTravel_counts)"
   ]
  },
  {
   "cell_type": "code",
   "execution_count": null,
   "id": "9388dc2b-9dd6-4079-8c66-0ba6a347da73",
   "metadata": {},
   "outputs": [],
   "source": [
    "#Three entries are abnormal. 1, -1, and 00 should be deleted."
   ]
  },
  {
   "cell_type": "code",
   "execution_count": 27,
   "id": "f595e14d-346a-4733-905a-72aec1271637",
   "metadata": {},
   "outputs": [
    {
     "name": "stdout",
     "output_type": "stream",
     "text": [
      "BusinessTravel\n",
      "Travel_Rarely        3250\n",
      "Non-Travel           3197\n",
      "Travel_Frequently    3145\n",
      "Name: count, dtype: int64\n"
     ]
    }
   ],
   "source": [
    "# Defining the unwanted values\n",
    "unwanted_values = [1, -1, '00']\n",
    "\n",
    "# Removing the rows where BusinessTravel is in the unwanted values\n",
    "df_cleaned = df_cleaned[~df_cleaned['BusinessTravel'].isin(unwanted_values)]\n",
    "\n",
    "#Reuse code from above to see if the abnormalities are still in the data\n",
    "BusinessTravel_counts = df_cleaned['BusinessTravel'].value_counts()\n",
    "print(BusinessTravel_counts)"
   ]
  },
  {
   "cell_type": "code",
   "execution_count": 29,
   "id": "3cc51b71-a249-4480-9e18-b07eb7848cf7",
   "metadata": {},
   "outputs": [
    {
     "name": "stdout",
     "output_type": "stream",
     "text": [
      "Empty DataFrame\n",
      "Columns: [Age, Turnover, BusinessTravel, DailyRate, Department, DistanceFromHome, Education, EducationField, EmployeeCount, EmployeeNumber, EnvironmentSatisfaction, Gender, HourlyRate, JobInvolvement, JobLevel, JobRole, JobSatisfaction, MaritalStatus, MonthlyIncome, MonthlyRate, NumCompaniesWorked, Over18, OverTime, PercentSalaryHike, PerformanceRating, RelationshipSatisfaction, StandardHours, StockOptionLevel, TotalWorkingYears, TrainingTimesLastYear, WorkLifeBalance, YearsAtCompany, YearsInCurrentRole, YearsSinceLastPromotion, YearsWithCurrManager]\n",
      "Index: []\n",
      "\n",
      "[0 rows x 35 columns]\n"
     ]
    }
   ],
   "source": [
    "#Making sure all values in DailyRate are numeric\n",
    "\n",
    "#First any entires that are non-numeric will be changed to NaN values. Then count how many NaN values there are to see if we caught any errors\n",
    "non_numeric_entries_DR = df_cleaned[pd.to_numeric(df_cleaned['DailyRate'], errors='coerce').isna()]\n",
    "print(non_numeric_entries_DR)"
   ]
  },
  {
   "cell_type": "code",
   "execution_count": null,
   "id": "65907a36-f053-41d0-9684-1fcd13a3ba27",
   "metadata": {},
   "outputs": [],
   "source": [
    "#Since the DataFrame returned empty, it must all be numeric. Now let's look for outliers"
   ]
  },
  {
   "cell_type": "code",
   "execution_count": 31,
   "id": "87f74e78-2a07-46af-b580-c1078b3ab0cf",
   "metadata": {},
   "outputs": [
    {
     "name": "stdout",
     "output_type": "stream",
     "text": [
      "DailyRate\n",
      "1146    18\n",
      "946     16\n",
      "1099    15\n",
      "691     15\n",
      "573     15\n",
      "        ..\n",
      "771      1\n",
      "439      1\n",
      "807      1\n",
      "342      1\n",
      "828      1\n",
      "Name: count, Length: 1398, dtype: int64\n"
     ]
    }
   ],
   "source": [
    "#Check DailyRate for abnormalities\n",
    "DailyRate_counts = df_cleaned['DailyRate'].value_counts()\n",
    "print(DailyRate_counts)"
   ]
  },
  {
   "cell_type": "code",
   "execution_count": 33,
   "id": "29976575-2cd3-4f8c-8608-6608b246fe64",
   "metadata": {},
   "outputs": [
    {
     "name": "stdout",
     "output_type": "stream",
     "text": [
      "count    9592.000000\n",
      "mean      807.078294\n",
      "std       405.154126\n",
      "min       100.000000\n",
      "25%       455.750000\n",
      "50%       806.500000\n",
      "75%      1161.250000\n",
      "max      1500.000000\n",
      "Name: DailyRate, dtype: float64\n"
     ]
    }
   ],
   "source": [
    "# Check DailyRate for outliers\n",
    "print(df_cleaned['DailyRate'].describe())"
   ]
  },
  {
   "cell_type": "code",
   "execution_count": null,
   "id": "f43716c9-62f8-43a8-b5d0-ab9516b80fee",
   "metadata": {},
   "outputs": [],
   "source": [
    "#The minimum and maximum do not seem unreasonable\n",
    "#DailyRates looks good!"
   ]
  },
  {
   "cell_type": "code",
   "execution_count": 35,
   "id": "1ea7861f-7385-4733-ae86-df2595e76165",
   "metadata": {},
   "outputs": [
    {
     "name": "stdout",
     "output_type": "stream",
     "text": [
      "Department\n",
      "Support                   1660\n",
      "Hardware                  1620\n",
      "Research & Development    1610\n",
      "Software                  1598\n",
      "Sales                     1554\n",
      "Human Resources           1550\n",
      "Name: count, dtype: int64\n"
     ]
    }
   ],
   "source": [
    "# Check Department for abnormalities\n",
    "department_counts = df_cleaned['Department'].value_counts()\n",
    "print(department_counts)"
   ]
  },
  {
   "cell_type": "code",
   "execution_count": null,
   "id": "4ea7b8da-1567-4101-9950-c353de149347",
   "metadata": {},
   "outputs": [],
   "source": [
    "#Looks good!"
   ]
  },
  {
   "cell_type": "code",
   "execution_count": 37,
   "id": "c7cad712-c6c9-4981-a719-a87330fee619",
   "metadata": {},
   "outputs": [
    {
     "name": "stdout",
     "output_type": "stream",
     "text": [
      "Empty DataFrame\n",
      "Columns: [Age, Turnover, BusinessTravel, DailyRate, Department, DistanceFromHome, Education, EducationField, EmployeeCount, EmployeeNumber, EnvironmentSatisfaction, Gender, HourlyRate, JobInvolvement, JobLevel, JobRole, JobSatisfaction, MaritalStatus, MonthlyIncome, MonthlyRate, NumCompaniesWorked, Over18, OverTime, PercentSalaryHike, PerformanceRating, RelationshipSatisfaction, StandardHours, StockOptionLevel, TotalWorkingYears, TrainingTimesLastYear, WorkLifeBalance, YearsAtCompany, YearsInCurrentRole, YearsSinceLastPromotion, YearsWithCurrManager]\n",
      "Index: []\n",
      "\n",
      "[0 rows x 35 columns]\n"
     ]
    }
   ],
   "source": [
    "#Making sure all values in DistanceFromHome are numeric\n",
    "\n",
    "#First any entires that are non-numeric will be changed to NaN values. Then count how many NaN values there are to see if we caught any errors\n",
    "non_numeric_entries_DFH = df_cleaned[pd.to_numeric(df_cleaned['DistanceFromHome'], errors='coerce').isna()]\n",
    "print(non_numeric_entries_DFH)"
   ]
  },
  {
   "cell_type": "code",
   "execution_count": 39,
   "id": "7fa88c9c-1f0e-45ee-b306-6598f23f81dc",
   "metadata": {},
   "outputs": [
    {
     "name": "stdout",
     "output_type": "stream",
     "text": [
      "DistanceFromHome\n",
      "1       216\n",
      "5       212\n",
      "30      210\n",
      "3       206\n",
      "29      206\n",
      "7       205\n",
      "34      205\n",
      "9       204\n",
      "41      203\n",
      "16      201\n",
      "43      201\n",
      "14      201\n",
      "11      200\n",
      "37      199\n",
      "25      198\n",
      "32      198\n",
      "36      198\n",
      "18      198\n",
      "12      198\n",
      "13      197\n",
      "44      195\n",
      "27      195\n",
      "19      193\n",
      "22      192\n",
      "10      192\n",
      "48      192\n",
      "33      189\n",
      "49      189\n",
      "38      189\n",
      "40      188\n",
      "26      188\n",
      "42      187\n",
      "4       187\n",
      "24      186\n",
      "28      186\n",
      "50      185\n",
      "17      184\n",
      "39      184\n",
      "6       184\n",
      "2       183\n",
      "15      183\n",
      "46      181\n",
      "21      180\n",
      "45      180\n",
      "23      180\n",
      "47      179\n",
      "31      175\n",
      "20      175\n",
      "8       170\n",
      "35      162\n",
      "3737      1\n",
      "3535      1\n",
      "978       1\n",
      "Name: count, dtype: int64\n"
     ]
    }
   ],
   "source": [
    "#Check DistanceFromHome for abnormalities\n",
    "DistanceFromHome_counts = df_cleaned['DistanceFromHome'].value_counts()\n",
    "print(DistanceFromHome_counts)"
   ]
  },
  {
   "cell_type": "code",
   "execution_count": null,
   "id": "5f16c260-463f-4c5a-957b-260eac653b4a",
   "metadata": {},
   "outputs": [],
   "source": [
    "#There are three very large commutes from home. Unless the CEO commutes by private jet, nobody is commuting 900 to 3,000 miles.\n",
    "# Anything over 100 appears to be an outlier"
   ]
  },
  {
   "cell_type": "code",
   "execution_count": 41,
   "id": "cceb5d08-a69b-44bd-8171-3b2d147feedf",
   "metadata": {},
   "outputs": [
    {
     "name": "stdout",
     "output_type": "stream",
     "text": [
      "DistanceFromHome\n",
      "1     216\n",
      "5     212\n",
      "30    210\n",
      "3     206\n",
      "29    206\n",
      "7     205\n",
      "34    205\n",
      "9     204\n",
      "41    203\n",
      "14    201\n",
      "16    201\n",
      "43    201\n",
      "11    200\n",
      "37    199\n",
      "25    198\n",
      "18    198\n",
      "36    198\n",
      "32    198\n",
      "12    198\n",
      "13    197\n",
      "44    195\n",
      "27    195\n",
      "19    193\n",
      "10    192\n",
      "48    192\n",
      "22    192\n",
      "33    189\n",
      "38    189\n",
      "49    189\n",
      "40    188\n",
      "26    188\n",
      "4     187\n",
      "42    187\n",
      "24    186\n",
      "28    186\n",
      "50    185\n",
      "39    184\n",
      "6     184\n",
      "17    184\n",
      "15    183\n",
      "2     183\n",
      "46    181\n",
      "21    180\n",
      "23    180\n",
      "45    180\n",
      "47    179\n",
      "31    175\n",
      "20    175\n",
      "8     170\n",
      "35    162\n",
      "Name: count, dtype: int64\n"
     ]
    }
   ],
   "source": [
    "# Remove rows where DistanceFromHome is greater than 100\n",
    "df_cleaned = df_cleaned[df_cleaned['DistanceFromHome'] <= 100]\n",
    "\n",
    "# Reuse code from above to see if the outliers were deleted\n",
    "DistanceFromHome_counts = df_cleaned['DistanceFromHome'].value_counts()\n",
    "print(DistanceFromHome_counts)"
   ]
  },
  {
   "cell_type": "code",
   "execution_count": 135,
   "id": "9d7205d2-1b49-4e4a-8d19-babf6f3171fa",
   "metadata": {},
   "outputs": [
    {
     "name": "stdout",
     "output_type": "stream",
     "text": [
      "Education\n",
      "1    1977\n",
      "2    1927\n",
      "4    1921\n",
      "3    1886\n",
      "5    1867\n",
      "Name: count, dtype: int64\n"
     ]
    }
   ],
   "source": [
    "#Listing unique entries in Education\n",
    "Education_counts = df_cleaned['Education'].value_counts()\n",
    "print(Education_counts)"
   ]
  },
  {
   "cell_type": "code",
   "execution_count": null,
   "id": "442dc19e-6d69-45da-807c-0931b1afa018",
   "metadata": {},
   "outputs": [],
   "source": [
    "#Looks good!"
   ]
  },
  {
   "cell_type": "code",
   "execution_count": 43,
   "id": "8e9e779a-4f2c-4c8a-8a57-88d79c58321b",
   "metadata": {},
   "outputs": [
    {
     "name": "stdout",
     "output_type": "stream",
     "text": [
      "EducationField\n",
      "Marketing           1642\n",
      "Medical             1624\n",
      "Other               1606\n",
      "Life Sciences       1598\n",
      "Human Resources     1582\n",
      "Technical Degree    1536\n",
      "                       1\n",
      "Name: count, dtype: int64\n"
     ]
    }
   ],
   "source": [
    "#Listing unique entries in EducationField\n",
    "EducationField_counts = df_cleaned['EducationField'].value_counts()\n",
    "print(EducationField_counts)"
   ]
  },
  {
   "cell_type": "code",
   "execution_count": null,
   "id": "c94fb55d-f21b-427c-bc48-d3b784927675",
   "metadata": {},
   "outputs": [],
   "source": [
    "#There's one blank entry that should be deleted"
   ]
  },
  {
   "cell_type": "code",
   "execution_count": 45,
   "id": "9696bf0a-b7fa-4fb2-ade1-bf7252146c96",
   "metadata": {},
   "outputs": [
    {
     "name": "stdout",
     "output_type": "stream",
     "text": [
      "EducationField\n",
      "Marketing           1642\n",
      "Medical             1624\n",
      "Other               1606\n",
      "Life Sciences       1598\n",
      "Human Resources     1582\n",
      "Technical Degree    1536\n",
      "Name: count, dtype: int64\n"
     ]
    }
   ],
   "source": [
    "# Remove rows where EducationField is an empty string\n",
    "df_cleaned = df_cleaned[df_cleaned['EducationField'] != ' ']\n",
    "\n",
    "# Use the same code from earlier to confirm the blank data is gone\n",
    "EducationField_counts = df_cleaned['EducationField'].value_counts()\n",
    "print(EducationField_counts)"
   ]
  },
  {
   "cell_type": "code",
   "execution_count": 47,
   "id": "b098378b-1036-46cd-83dc-eb29e3f9c251",
   "metadata": {},
   "outputs": [
    {
     "name": "stdout",
     "output_type": "stream",
     "text": [
      "       Age Turnover     BusinessTravel  DailyRate              Department  \\\n",
      "140   50.0       No  Travel_Frequently        547                Hardware   \n",
      "7167  56.0       No         Non-Travel        105                 Support   \n",
      "7877  28.0      Yes         Non-Travel        929  Research & Development   \n",
      "\n",
      "      DistanceFromHome  Education   EducationField  EmployeeCount  \\\n",
      "140                 13          4          Medical             -1   \n",
      "7167                38          5            Other              3   \n",
      "7877                12          2  Human Resources             -1   \n",
      "\n",
      "      EmployeeNumber  ...  RelationshipSatisfaction StandardHours  \\\n",
      "140             8115  ...                         3            80   \n",
      "7167              21  ...                         1            80   \n",
      "7877             194  ...                         2            80   \n",
      "\n",
      "      StockOptionLevel  TotalWorkingYears  TrainingTimesLastYear  \\\n",
      "140                  1               23.0                    3.0   \n",
      "7167                 3               29.0                    2.0   \n",
      "7877                 3               22.0                    3.0   \n",
      "\n",
      "     WorkLifeBalance  YearsAtCompany YearsInCurrentRole  \\\n",
      "140                3              20                 13   \n",
      "7167               1              22                  5   \n",
      "7877               1               7                  1   \n",
      "\n",
      "      YearsSinceLastPromotion  YearsWithCurrManager  \n",
      "140                      12.0                     4  \n",
      "7167                     20.0                     7  \n",
      "7877                      4.0                     1  \n",
      "\n",
      "[3 rows x 35 columns]\n"
     ]
    }
   ],
   "source": [
    "#EmployeeCount should always be 1\n",
    "\n",
    "#Looking for rows where EmployeeCount is not equal to 1\n",
    "invalid_employee_count = df_cleaned[df_cleaned['EmployeeCount'] != 1]\n",
    "\n",
    "#Display incorrect rows\n",
    "print(invalid_employee_count)"
   ]
  },
  {
   "cell_type": "code",
   "execution_count": 49,
   "id": "d368eb71-f01a-43f7-819c-f4a80a369a18",
   "metadata": {},
   "outputs": [
    {
     "name": "stdout",
     "output_type": "stream",
     "text": [
      "Empty DataFrame\n",
      "Columns: [Age, Turnover, BusinessTravel, DailyRate, Department, DistanceFromHome, Education, EducationField, EmployeeCount, EmployeeNumber, EnvironmentSatisfaction, Gender, HourlyRate, JobInvolvement, JobLevel, JobRole, JobSatisfaction, MaritalStatus, MonthlyIncome, MonthlyRate, NumCompaniesWorked, Over18, OverTime, PercentSalaryHike, PerformanceRating, RelationshipSatisfaction, StandardHours, StockOptionLevel, TotalWorkingYears, TrainingTimesLastYear, WorkLifeBalance, YearsAtCompany, YearsInCurrentRole, YearsSinceLastPromotion, YearsWithCurrManager]\n",
      "Index: []\n",
      "\n",
      "[0 rows x 35 columns]\n"
     ]
    }
   ],
   "source": [
    "#There are three rows that need to be fixed\n",
    "\n",
    "# Set all EmployeeCount values to 1\n",
    "df_cleaned['EmployeeCount'] = 1\n",
    "\n",
    "#Run the same code from earlier to ensure there are no Employee Count not equal to 1\n",
    "invalid_employee_count = df_cleaned[df_cleaned['EmployeeCount'] != 1]\n",
    "\n",
    "#Display incorrect rows\n",
    "print(invalid_employee_count)"
   ]
  },
  {
   "cell_type": "code",
   "execution_count": 51,
   "id": "c139b3ea-5042-4c5e-8e90-afe8e91d961f",
   "metadata": {},
   "outputs": [
    {
     "name": "stdout",
     "output_type": "stream",
     "text": [
      "Empty DataFrame\n",
      "Columns: [Age, Turnover, BusinessTravel, DailyRate, Department, DistanceFromHome, Education, EducationField, EmployeeCount, EmployeeNumber, EnvironmentSatisfaction, Gender, HourlyRate, JobInvolvement, JobLevel, JobRole, JobSatisfaction, MaritalStatus, MonthlyIncome, MonthlyRate, NumCompaniesWorked, Over18, OverTime, PercentSalaryHike, PerformanceRating, RelationshipSatisfaction, StandardHours, StockOptionLevel, TotalWorkingYears, TrainingTimesLastYear, WorkLifeBalance, YearsAtCompany, YearsInCurrentRole, YearsSinceLastPromotion, YearsWithCurrManager]\n",
      "Index: []\n",
      "\n",
      "[0 rows x 35 columns]\n"
     ]
    }
   ],
   "source": [
    "#Making sure all values in EmployeeNumber are numeric\n",
    "\n",
    "#First any entires that are non-numeric will be changed to NaN values. Then count how many NaN values there are to see if we caught any errors\n",
    "non_numeric_entries_EN = df_cleaned[pd.to_numeric(df_cleaned['EmployeeNumber'], errors='coerce').isna()]\n",
    "print(non_numeric_entries_EN)"
   ]
  },
  {
   "cell_type": "code",
   "execution_count": null,
   "id": "3d6cbe44-5fcd-4126-b2a9-5fa2c5575de2",
   "metadata": {},
   "outputs": [],
   "source": [
    "#All EmployeeNumbers are numeric"
   ]
  },
  {
   "cell_type": "code",
   "execution_count": 53,
   "id": "011066ec-5e60-4281-93b0-534db2fe4b45",
   "metadata": {},
   "outputs": [
    {
     "name": "stdout",
     "output_type": "stream",
     "text": [
      "EmployeeNumber\n",
      "7883    2\n",
      "161     2\n",
      "925     1\n",
      "4056    1\n",
      "6353    1\n",
      "       ..\n",
      "9928    1\n",
      "3850    1\n",
      "3390    1\n",
      "1280    1\n",
      "5122    1\n",
      "Name: count, Length: 9586, dtype: int64\n"
     ]
    }
   ],
   "source": [
    "#Listing unique entries in EducationField column\n",
    "EmployeeNumber_counts = df_cleaned['EmployeeNumber'].value_counts()\n",
    "print(EmployeeNumber_counts)"
   ]
  },
  {
   "cell_type": "code",
   "execution_count": null,
   "id": "a3e61765-54e6-4b45-bf25-4b956a3b4a71",
   "metadata": {},
   "outputs": [],
   "source": [
    "#It looks like there's two shared EmployeeNumbers. \n",
    "#However, I'm choosing to leave this untouched because it could be that an employee left and a new employee got his old number\n",
    "#Meaning both would be valid employees"
   ]
  },
  {
   "cell_type": "code",
   "execution_count": 55,
   "id": "fabb063f-8175-4012-a5ec-f21c6cd62a3c",
   "metadata": {},
   "outputs": [
    {
     "name": "stdout",
     "output_type": "stream",
     "text": [
      "Environment Satisfaction Counts:\n",
      "EnvironmentSatisfaction\n",
      "1    2405\n",
      "2    2405\n",
      "3    2402\n",
      "4    2376\n",
      "Name: count, dtype: int64\n"
     ]
    }
   ],
   "source": [
    "#Listing unique entries in EnvironmentSatisfaction\n",
    "environment_satisfaction_counts = df_cleaned['EnvironmentSatisfaction'].value_counts()\n",
    "\n",
    "# Display the counts\n",
    "print(\"Environment Satisfaction Counts:\")\n",
    "print(environment_satisfaction_counts)\n"
   ]
  },
  {
   "cell_type": "code",
   "execution_count": null,
   "id": "96eca057-8a2f-464c-be46-e2299a8e59f3",
   "metadata": {},
   "outputs": [],
   "source": [
    "#Looks good!"
   ]
  },
  {
   "cell_type": "code",
   "execution_count": 145,
   "id": "f9c05b65-6ef7-46bf-bb1d-c9a84d2ca2f9",
   "metadata": {},
   "outputs": [
    {
     "name": "stdout",
     "output_type": "stream",
     "text": [
      "Gender\n",
      "Male      4803\n",
      "Female    4775\n",
      "Name: count, dtype: int64\n"
     ]
    }
   ],
   "source": [
    "#Listing unique entries in Gender\n",
    "Gender_counts = df_cleaned['Gender'].value_counts()\n",
    "\n",
    "# Display the counts\n",
    "print(Gender_counts)"
   ]
  },
  {
   "cell_type": "code",
   "execution_count": null,
   "id": "88d15263-23aa-4428-866a-217a58b3be45",
   "metadata": {},
   "outputs": [],
   "source": [
    "#Looks good!"
   ]
  },
  {
   "cell_type": "code",
   "execution_count": 61,
   "id": "627cd637-e77e-46bf-ba3a-51b3f351e766",
   "metadata": {},
   "outputs": [
    {
     "name": "stdout",
     "output_type": "stream",
     "text": [
      "HourlyRate Counts:\n",
      "HourlyRate\n",
      "140    79\n",
      "170    78\n",
      "194    77\n",
      "87     73\n",
      "195    72\n",
      "       ..\n",
      "56     42\n",
      "193    42\n",
      "156    41\n",
      "131    41\n",
      "158    40\n",
      "Name: count, Length: 171, dtype: int64\n"
     ]
    }
   ],
   "source": [
    "#Listing unique entries in  HourlyRate\n",
    "HourlyRate_counts = df_cleaned['HourlyRate'].value_counts()\n",
    "\n",
    "# Display the counts\n",
    "print(\"HourlyRate Counts:\")\n",
    "print(HourlyRate_counts)"
   ]
  },
  {
   "cell_type": "code",
   "execution_count": null,
   "id": "491fa503-db21-42c9-8b6a-23dfbf33639a",
   "metadata": {},
   "outputs": [],
   "source": [
    "#HourlyRate has no outliers or unusual data points"
   ]
  },
  {
   "cell_type": "code",
   "execution_count": 63,
   "id": "7d2b4446-49db-42a3-a3cc-3ba2e22b98a7",
   "metadata": {},
   "outputs": [
    {
     "name": "stdout",
     "output_type": "stream",
     "text": [
      "JobInvolvement:\n",
      "JobInvolvement\n",
      "3    2416\n",
      "4    2408\n",
      "2    2392\n",
      "1    2372\n",
      "Name: count, dtype: int64\n"
     ]
    }
   ],
   "source": [
    "#Listing unique entries in JobInvolvement\n",
    "JobInvolvement_counts = df_cleaned['JobInvolvement'].value_counts()\n",
    "\n",
    "# Display the counts\n",
    "print(\"JobInvolvement:\")\n",
    "print(JobInvolvement_counts)"
   ]
  },
  {
   "cell_type": "code",
   "execution_count": null,
   "id": "ee9ca4d9-65bd-4efd-bb8a-4d4a5744fd36",
   "metadata": {},
   "outputs": [],
   "source": [
    "#Looks good!"
   ]
  },
  {
   "cell_type": "code",
   "execution_count": 65,
   "id": "2dc1b15e-c944-47fe-a5c1-9796c3655b60",
   "metadata": {},
   "outputs": [
    {
     "name": "stdout",
     "output_type": "stream",
     "text": [
      "JobLevel:\n",
      "JobLevel\n",
      "4    2011\n",
      "2    1959\n",
      "3    1905\n",
      "5    1870\n",
      "1    1843\n",
      "Name: count, dtype: int64\n"
     ]
    }
   ],
   "source": [
    "#Listing unique entries in  JobLevel\n",
    "JobLevel_counts = df_cleaned['JobLevel'].value_counts()\n",
    "\n",
    "# Display the counts\n",
    "print(\"JobLevel:\")\n",
    "print(JobLevel_counts)"
   ]
  },
  {
   "cell_type": "code",
   "execution_count": null,
   "id": "5a6d4963-79e2-4bbf-8930-9ffbf91d529c",
   "metadata": {},
   "outputs": [],
   "source": [
    "#Looks good!"
   ]
  },
  {
   "cell_type": "code",
   "execution_count": 67,
   "id": "6b8366bc-ff16-43cb-a3bb-c403a95dc0fe",
   "metadata": {},
   "outputs": [
    {
     "name": "stdout",
     "output_type": "stream",
     "text": [
      "JobRole:\n",
      "JobRole\n",
      "Manager                      1048\n",
      "Research Director             985\n",
      "Manufacturing Director        978\n",
      "Healthcare Representative     961\n",
      "Human Resources               952\n",
      "Laboratory Technician         945\n",
      "Sales Executive               944\n",
      "Developer                     936\n",
      "Sales Representative          921\n",
      "Research Scientist            915\n",
      "                                3\n",
      "Name: count, dtype: int64\n"
     ]
    }
   ],
   "source": [
    "#Listing unique entries in JobRole\n",
    "JobRole_counts = df_cleaned['JobRole'].value_counts()\n",
    "\n",
    "# Display the counts\n",
    "print(\"JobRole:\")\n",
    "print(JobRole_counts)"
   ]
  },
  {
   "cell_type": "code",
   "execution_count": null,
   "id": "9fac9872-035a-45d9-812a-d510795c1e37",
   "metadata": {},
   "outputs": [],
   "source": [
    "#There are three blank entries that should be deleted"
   ]
  },
  {
   "cell_type": "code",
   "execution_count": 69,
   "id": "b308a50a-00bd-4c26-bbf6-2be0199f88eb",
   "metadata": {},
   "outputs": [
    {
     "name": "stdout",
     "output_type": "stream",
     "text": [
      "JobRole:\n",
      "JobRole\n",
      "Manager                      1048\n",
      "Research Director             985\n",
      "Manufacturing Director        978\n",
      "Healthcare Representative     961\n",
      "Human Resources               952\n",
      "Laboratory Technician         945\n",
      "Sales Executive               944\n",
      "Developer                     936\n",
      "Sales Representative          921\n",
      "Research Scientist            915\n",
      "Name: count, dtype: int64\n"
     ]
    }
   ],
   "source": [
    "# Remove rows where JobRole is an empty string\n",
    "df_cleaned = df_cleaned[df_cleaned['JobRole'] != ' ']\n",
    "\n",
    "# Do the same code from earlier to confirm the blank data is gone\n",
    "JobRole_counts = df_cleaned['JobRole'].value_counts()\n",
    "\n",
    "# Display the counts\n",
    "print(\"JobRole:\")\n",
    "print(JobRole_counts)"
   ]
  },
  {
   "cell_type": "code",
   "execution_count": 71,
   "id": "c3097c26-c6f1-486b-8c93-e9ec28ed961a",
   "metadata": {},
   "outputs": [
    {
     "name": "stdout",
     "output_type": "stream",
     "text": [
      "JobSatisfaction:\n",
      "JobSatisfaction\n",
      "2    2459\n",
      "4    2396\n",
      "1    2395\n",
      "3    2335\n",
      "Name: count, dtype: int64\n"
     ]
    }
   ],
   "source": [
    "# Count unique entries in JobSatisfaction\n",
    "JobSatisfaction_counts = df_cleaned['JobSatisfaction'].value_counts()\n",
    "\n",
    "# Display the counts\n",
    "print(\"JobSatisfaction:\")\n",
    "print(JobSatisfaction_counts)"
   ]
  },
  {
   "cell_type": "code",
   "execution_count": null,
   "id": "463a0295-1302-471c-80a5-c3da2c4582cb",
   "metadata": {},
   "outputs": [],
   "source": [
    "#Looks good!"
   ]
  },
  {
   "cell_type": "code",
   "execution_count": 73,
   "id": "a7c72859-d32c-4a17-b0eb-f903a0f1e9d6",
   "metadata": {},
   "outputs": [
    {
     "name": "stdout",
     "output_type": "stream",
     "text": [
      "MaritalStatus:\n",
      "MaritalStatus\n",
      "Divorced    3317\n",
      "Single      3140\n",
      "Married     3128\n",
      "Name: count, dtype: int64\n"
     ]
    }
   ],
   "source": [
    "#Listing unique entries in MartialStatus\n",
    "MaritalStatus_counts = df_cleaned['MaritalStatus'].value_counts()\n",
    "\n",
    "# Display the counts\n",
    "print(\"MaritalStatus:\")\n",
    "print(MaritalStatus_counts)"
   ]
  },
  {
   "cell_type": "code",
   "execution_count": null,
   "id": "af30c53a-18cd-4d41-a97d-6968cc274c39",
   "metadata": {},
   "outputs": [],
   "source": [
    "#MaritalStatus data all fit neatly into three reasonable categories and normally distributed (no outliers)"
   ]
  },
  {
   "cell_type": "code",
   "execution_count": 75,
   "id": "698c9f83-5c2e-4226-9701-cedf94017793",
   "metadata": {},
   "outputs": [
    {
     "name": "stdout",
     "output_type": "stream",
     "text": [
      "MonthlyIncome:\n",
      "MonthlyIncome\n",
      "9392.0     4\n",
      "34187.0    3\n",
      "27263.0    3\n",
      "2967.0     3\n",
      "2463.0     3\n",
      "          ..\n",
      "28726.0    1\n",
      "50291.0    1\n",
      "41544.0    1\n",
      "23711.0    1\n",
      "29469.0    1\n",
      "Name: count, Length: 8716, dtype: int64\n"
     ]
    }
   ],
   "source": [
    "#Listing unique entries in MonthlyIncome\n",
    "MonthlyIncome_counts = df_cleaned['MonthlyIncome'].value_counts()\n",
    "\n",
    "# Display the counts\n",
    "print(\"MonthlyIncome:\")\n",
    "print(MonthlyIncome_counts)"
   ]
  },
  {
   "cell_type": "code",
   "execution_count": 77,
   "id": "66965bd5-f93c-4c44-b762-63dc79a25d5a",
   "metadata": {},
   "outputs": [
    {
     "name": "stdout",
     "output_type": "stream",
     "text": [
      "count     9585.000000\n",
      "mean     25803.348774\n",
      "std      14443.129226\n",
      "min     -38005.000000\n",
      "25%      13353.000000\n",
      "50%      25423.000000\n",
      "75%      38391.000000\n",
      "max      50996.000000\n",
      "Name: MonthlyIncome, dtype: float64\n"
     ]
    }
   ],
   "source": [
    "# Looking for outliers in MonthlyIncome\n",
    "print(df_cleaned['MonthlyIncome'].describe())"
   ]
  },
  {
   "cell_type": "code",
   "execution_count": 87,
   "id": "7b5e81fd-87b1-4eec-806b-803aa47eb60b",
   "metadata": {},
   "outputs": [],
   "source": [
    "#Because monthly income can vary dramatically and can be unique or shared\n",
    "#The only numbers we need to be concerned about are negative numbers."
   ]
  },
  {
   "cell_type": "code",
   "execution_count": 131,
   "id": "a5d68b5a-07ec-403b-af19-8fc40a857bbd",
   "metadata": {},
   "outputs": [
    {
     "name": "stdout",
     "output_type": "stream",
     "text": [
      "Number of values in MonthlyIncome greater than 0: 0\n"
     ]
    }
   ],
   "source": [
    "#Listing unique entries in MonthlyIncome that are less than 0\n",
    "less_than_0 = df_cleaned[df_cleaned['MonthlyIncome'] < 0].shape[0]\n",
    "\n",
    "print(f'Number of values in MonthlyIncome less than 0: {less_than_0}')"
   ]
  },
  {
   "cell_type": "code",
   "execution_count": null,
   "id": "3e238c8a-25be-420f-b48e-b9cf86e8ad57",
   "metadata": {},
   "outputs": [],
   "source": [
    "#Since there's only 1, we can assume it is a typo and must be adjusted. \n",
    "#We can't safely assume, however, what the actual value should be, so we should delete it."
   ]
  },
  {
   "cell_type": "code",
   "execution_count": 133,
   "id": "c9cd2f11-d5d7-4efa-9826-f51ba0a26c3b",
   "metadata": {},
   "outputs": [
    {
     "name": "stdout",
     "output_type": "stream",
     "text": [
      "Number of values in MonthlyIncome greater than 0: 0\n"
     ]
    }
   ],
   "source": [
    "# Filter df_cleaned to keep only rows where MonthlyIncome is positive\n",
    "df_cleaned = df_cleaned[(df_cleaned['MonthlyIncome'] >= 0)]\n",
    "\n",
    "#To be sure it worked, let's reuse our code for checking for negative values\n",
    "# Count how many values in MonthlyIncome are less than 0\n",
    "less_than_0 = df_cleaned[df_cleaned['MonthlyIncome'] < 0].shape[0]\n",
    "\n",
    "print(f'Number of values in MonthlyIncome less than 0: {less_than_0}')"
   ]
  },
  {
   "cell_type": "code",
   "execution_count": 87,
   "id": "cda605e5-18f8-4272-af39-bb68e10fa374",
   "metadata": {},
   "outputs": [
    {
     "name": "stdout",
     "output_type": "stream",
     "text": [
      "MonthlyRate:\n",
      "MonthlyRate\n",
      "526320.0    3\n",
      "21078.0     2\n",
      "739935.0    2\n",
      "22920.0     2\n",
      "870720.0    2\n",
      "           ..\n",
      "20133.0     1\n",
      "130797.0    1\n",
      "106505.0    1\n",
      "334145.0    1\n",
      "884070.0    1\n",
      "Name: count, Length: 9446, dtype: int64\n"
     ]
    }
   ],
   "source": [
    "# MonthlyRate\n",
    "MonthlyRate_counts = df_cleaned['MonthlyRate'].value_counts()\n",
    "print(\"MonthlyRate:\")\n",
    "print(MonthlyRate_counts)"
   ]
  },
  {
   "cell_type": "code",
   "execution_count": 89,
   "id": "2c55233f-db2d-4b02-9a63-c0fdbe75399e",
   "metadata": {},
   "outputs": [
    {
     "name": "stdout",
     "output_type": "stream",
     "text": [
      "count    9.584000e+03\n",
      "mean     9.140733e+07\n",
      "std      8.909429e+09\n",
      "min      1.270000e+03\n",
      "25%      1.217768e+05\n",
      "50%      3.071420e+05\n",
      "75%      5.971372e+05\n",
      "max      8.722149e+11\n",
      "Name: MonthlyRate, dtype: float64\n"
     ]
    }
   ],
   "source": [
    "# Looking for outliers in MonthlyIncome\n",
    "print(df_cleaned['MonthlyRate'].describe())"
   ]
  },
  {
   "cell_type": "code",
   "execution_count": 93,
   "id": "498d2660-d3a0-47a4-a443-89c739ff3aaf",
   "metadata": {},
   "outputs": [
    {
     "name": "stdout",
     "output_type": "stream",
     "text": [
      "       MonthlyRate\n",
      "2900  8.722149e+11\n",
      "3466  1.523280e+06\n",
      "8264  1.522920e+06\n",
      "2190  1.514100e+06\n",
      "4291  1.496430e+06\n",
      "4048  1.492170e+06\n",
      "1112  1.491360e+06\n",
      "7497  1.491120e+06\n",
      "4855  1.484400e+06\n",
      "1056  1.482120e+06\n"
     ]
    }
   ],
   "source": [
    "#Because no employee is likely to be making 8,722,149,000,000 (8 trillion dollars) in a month, this is an outlier that should be deleted.\n",
    "#We can check for more outliers by checking the 10 highest results\n",
    "\n",
    "#Sort MonthlyRatein descending order and display the top 10 rows\n",
    "top_10_MonthlyRate = df_cleaned[['MonthlyRate']].sort_values(by='MonthlyRate', ascending=False).head(10)\n",
    "\n",
    "print(top_10_MonthlyRate)"
   ]
  },
  {
   "cell_type": "code",
   "execution_count": 95,
   "id": "1a8de577-7259-45df-abf2-ed66ec7c4bf6",
   "metadata": {},
   "outputs": [],
   "source": [
    "# Remove rows where MonthlyRate is greater than 2,000,000\n",
    "df_cleaned = df_cleaned[df_cleaned['MonthlyRate'] <= 2000000]"
   ]
  },
  {
   "cell_type": "code",
   "execution_count": 97,
   "id": "f01fb88b-fafc-4339-941d-c0c1100e41bf",
   "metadata": {},
   "outputs": [
    {
     "name": "stdout",
     "output_type": "stream",
     "text": [
      "      MonthlyRate\n",
      "3466    1523280.0\n",
      "8264    1522920.0\n",
      "2190    1514100.0\n",
      "4291    1496430.0\n",
      "4048    1492170.0\n",
      "1112    1491360.0\n",
      "7497    1491120.0\n",
      "4855    1484400.0\n",
      "1056    1482120.0\n",
      "7797    1478043.0\n"
     ]
    }
   ],
   "source": [
    "#Reuse code from earlier to make sure the outlier was deleted\n",
    "\n",
    "#Sort MonthlyRatein descending order and display the top 10 rows\n",
    "top_10_MonthlyRate = df_cleaned[['MonthlyRate']].sort_values(by='MonthlyRate', ascending=False).head(10)\n",
    "\n",
    "print(top_10_MonthlyRate)"
   ]
  },
  {
   "cell_type": "code",
   "execution_count": 99,
   "id": "c14d281f-3bf8-4099-85e4-2c93776e0a88",
   "metadata": {},
   "outputs": [
    {
     "name": "stdout",
     "output_type": "stream",
     "text": [
      "NumCompaniesWorked:\n",
      "NumCompaniesWorked\n",
      "2.0    1099\n",
      "8.0    1079\n",
      "7.0    1077\n",
      "1.0    1072\n",
      "0.0    1064\n",
      "4.0    1062\n",
      "6.0    1060\n",
      "3.0    1059\n",
      "5.0    1011\n",
      "Name: count, dtype: int64\n"
     ]
    }
   ],
   "source": [
    "#Listing unique entries in NumCompaniesWorked\n",
    "NumCompaniesWorked_counts = df_cleaned['NumCompaniesWorked'].value_counts()\n",
    "print(\"NumCompaniesWorked:\")\n",
    "print(NumCompaniesWorked_counts)"
   ]
  },
  {
   "cell_type": "code",
   "execution_count": null,
   "id": "52081d48-e8fd-464e-aff0-f93cda661746",
   "metadata": {},
   "outputs": [],
   "source": [
    "#Looks Geat!"
   ]
  },
  {
   "cell_type": "code",
   "execution_count": 101,
   "id": "11e657c7-cab9-4aeb-adfb-ac8a3add7420",
   "metadata": {},
   "outputs": [
    {
     "name": "stdout",
     "output_type": "stream",
     "text": [
      "Over18\n",
      "Y    9583\n",
      "Name: count, dtype: int64\n"
     ]
    }
   ],
   "source": [
    "#Listing unique entries in Over18\n",
    "Over18_counts = df_cleaned['Over18'].value_counts()\n",
    "print(Over18_counts)"
   ]
  },
  {
   "cell_type": "code",
   "execution_count": null,
   "id": "13a09412-5249-4734-a918-90c7b275b043",
   "metadata": {},
   "outputs": [],
   "source": [
    "#Looks Geat!"
   ]
  },
  {
   "cell_type": "code",
   "execution_count": 103,
   "id": "0bea7a7f-d12a-43bb-8f1a-b83c97a19066",
   "metadata": {},
   "outputs": [
    {
     "name": "stdout",
     "output_type": "stream",
     "text": [
      "OverTime\n",
      "No     4806\n",
      "Yes    4777\n",
      "Name: count, dtype: int64\n"
     ]
    }
   ],
   "source": [
    "#Listing unique entries in OverTime\n",
    "OverTime_counts = df_cleaned['OverTime'].value_counts()\n",
    "print(OverTime_counts)"
   ]
  },
  {
   "cell_type": "code",
   "execution_count": null,
   "id": "eaadcaea-14bb-4f27-8c42-574e6f4d1a0b",
   "metadata": {},
   "outputs": [],
   "source": [
    "#Looks Geat!"
   ]
  },
  {
   "cell_type": "code",
   "execution_count": 105,
   "id": "13112b12-df8d-4de8-bc07-0a26413ecb81",
   "metadata": {},
   "outputs": [
    {
     "name": "stdout",
     "output_type": "stream",
     "text": [
      "PercentSalaryHike:\n",
      "PercentSalaryHike\n",
      "30    219\n",
      "44    212\n",
      "40    209\n",
      "11    209\n",
      "32    206\n",
      "19    206\n",
      "6     205\n",
      "4     204\n",
      "9     204\n",
      "41    203\n",
      "46    200\n",
      "42    200\n",
      "43    198\n",
      "26    198\n",
      "27    198\n",
      "33    197\n",
      "20    197\n",
      "3     197\n",
      "25    197\n",
      "8     197\n",
      "28    195\n",
      "10    195\n",
      "2     194\n",
      "36    192\n",
      "15    191\n",
      "45    191\n",
      "18    190\n",
      "24    190\n",
      "5     189\n",
      "48    188\n",
      "0     187\n",
      "49    187\n",
      "35    186\n",
      "13    186\n",
      "34    185\n",
      "47    184\n",
      "21    184\n",
      "22    183\n",
      "7     183\n",
      "12    182\n",
      "37    182\n",
      "38    181\n",
      "23    180\n",
      "31    179\n",
      "14    179\n",
      "29    178\n",
      "39    175\n",
      "16    175\n",
      "17    173\n",
      "1     163\n",
      "Name: count, dtype: int64\n"
     ]
    }
   ],
   "source": [
    "#Listing unique entries in  PercentSalaryHike\n",
    "PercentSalaryHike_counts = df_cleaned['PercentSalaryHike'].value_counts()\n",
    "print(\"PercentSalaryHike:\")\n",
    "print(PercentSalaryHike_counts)"
   ]
  },
  {
   "cell_type": "code",
   "execution_count": null,
   "id": "4c47646d-2acd-4fa4-92f9-7176524428fe",
   "metadata": {},
   "outputs": [],
   "source": [
    "#None of these numbers are unique or extreme, so this looks great!"
   ]
  },
  {
   "cell_type": "code",
   "execution_count": 107,
   "id": "b4517117-88a0-42c3-84e3-a07d474b21c5",
   "metadata": {},
   "outputs": [
    {
     "name": "stdout",
     "output_type": "stream",
     "text": [
      "PerformanceRating\n",
      "1    2445\n",
      "4    2419\n",
      "3    2405\n",
      "2    2314\n",
      "Name: count, dtype: int64\n"
     ]
    }
   ],
   "source": [
    "#Listing unique entries in PerformanceRating\n",
    "PerformanceRating_counts = df_cleaned['PerformanceRating'].value_counts()\n",
    "print(PerformanceRating_counts)"
   ]
  },
  {
   "cell_type": "code",
   "execution_count": null,
   "id": "66c92466-e19f-4613-923e-26237d4c4c68",
   "metadata": {},
   "outputs": [],
   "source": [
    "#Looks great!"
   ]
  },
  {
   "cell_type": "code",
   "execution_count": 109,
   "id": "9123b10f-bfd3-4e77-bb5e-4ed03cdcb661",
   "metadata": {},
   "outputs": [
    {
     "name": "stdout",
     "output_type": "stream",
     "text": [
      "RelationshipSatisfaction:\n",
      "RelationshipSatisfaction\n",
      "2    2444\n",
      "3    2392\n",
      "1    2380\n",
      "4    2367\n",
      "Name: count, dtype: int64\n"
     ]
    }
   ],
   "source": [
    "#Listing unique entries in RelationshipSatisfaction\n",
    "RelationshipSatisfaction_counts = df_cleaned['RelationshipSatisfaction'].value_counts()\n",
    "print(\"RelationshipSatisfaction:\")\n",
    "print(RelationshipSatisfaction_counts)"
   ]
  },
  {
   "cell_type": "code",
   "execution_count": null,
   "id": "960f7b1e-6a95-4c6d-9f85-d5319497d408",
   "metadata": {},
   "outputs": [],
   "source": [
    "#Looks great!"
   ]
  },
  {
   "cell_type": "code",
   "execution_count": 111,
   "id": "2a1b9f0d-01e8-43e1-b829-553afc6ef26b",
   "metadata": {},
   "outputs": [
    {
     "name": "stdout",
     "output_type": "stream",
     "text": [
      "StandardHours\n",
      "80    9583\n",
      "Name: count, dtype: int64\n"
     ]
    }
   ],
   "source": [
    "#Listing unique entries in StandardHours\n",
    "StandardHours_counts = df_cleaned['StandardHours'].value_counts()\n",
    "print(StandardHours_counts)"
   ]
  },
  {
   "cell_type": "code",
   "execution_count": null,
   "id": "e0346607-2bf0-4d5e-ad96-cabd370e50b5",
   "metadata": {},
   "outputs": [],
   "source": [
    "#Looks great!"
   ]
  },
  {
   "cell_type": "code",
   "execution_count": 113,
   "id": "f2ab594c-d65e-4252-81df-37198476479c",
   "metadata": {},
   "outputs": [
    {
     "name": "stdout",
     "output_type": "stream",
     "text": [
      "StockOptionLevel:\n",
      "StockOptionLevel\n",
      "2    2450\n",
      "4    2415\n",
      "1    2391\n",
      "3    2327\n",
      "Name: count, dtype: int64\n"
     ]
    }
   ],
   "source": [
    "#Listing unique entries in StockOptionLevel\n",
    "StockOptionLevel_counts = df_cleaned['StockOptionLevel'].value_counts()\n",
    "print(\"StockOptionLevel:\")\n",
    "print(StockOptionLevel_counts)"
   ]
  },
  {
   "cell_type": "code",
   "execution_count": null,
   "id": "906558b6-0cb3-4e33-be3a-bba86fd91c3e",
   "metadata": {},
   "outputs": [],
   "source": [
    "#Looks great!"
   ]
  },
  {
   "cell_type": "code",
   "execution_count": 115,
   "id": "01e0b594-e4c7-4527-8a20-ae57e407fa41",
   "metadata": {},
   "outputs": [
    {
     "name": "stdout",
     "output_type": "stream",
     "text": [
      "TotalWorkingYears\n",
      " 3.0      288\n",
      " 32.0     269\n",
      " 28.0     266\n",
      " 16.0     260\n",
      " 30.0     253\n",
      " 26.0     252\n",
      " 40.0     252\n",
      " 21.0     249\n",
      " 4.0      249\n",
      " 13.0     249\n",
      " 12.0     247\n",
      " 18.0     247\n",
      " 8.0      246\n",
      " 24.0     245\n",
      " 20.0     245\n",
      " 29.0     243\n",
      " 23.0     243\n",
      " 17.0     242\n",
      " 36.0     241\n",
      " 34.0     241\n",
      " 37.0     240\n",
      " 35.0     239\n",
      " 38.0     237\n",
      " 19.0     235\n",
      " 22.0     233\n",
      " 10.0     233\n",
      " 33.0     232\n",
      " 6.0      231\n",
      " 9.0      231\n",
      " 11.0     229\n",
      " 5.0      227\n",
      " 39.0     227\n",
      " 14.0     227\n",
      " 1.0      226\n",
      " 2.0      226\n",
      " 31.0     223\n",
      " 15.0     221\n",
      " 7.0      217\n",
      " 27.0     215\n",
      " 25.0     205\n",
      "-1.0        1\n",
      " 222.0      1\n",
      "Name: count, dtype: int64\n"
     ]
    }
   ],
   "source": [
    "#Listing unique entries in TotalWorkingYears\n",
    "TotalWorkingYears_counts = df_cleaned['TotalWorkingYears'].value_counts()\n",
    "print(TotalWorkingYears_counts)"
   ]
  },
  {
   "cell_type": "code",
   "execution_count": null,
   "id": "3c32648a-2512-4f44-9250-c38d0d437229",
   "metadata": {},
   "outputs": [],
   "source": [
    "#Clearly nobody has been working for -1 year or 220 years. These rows will be deleted."
   ]
  },
  {
   "cell_type": "code",
   "execution_count": 117,
   "id": "7c81d062-1ecf-4782-ba36-e5321dceaf61",
   "metadata": {},
   "outputs": [
    {
     "name": "stdout",
     "output_type": "stream",
     "text": [
      "TotalWorkingYears\n",
      "3.0     288\n",
      "32.0    269\n",
      "28.0    266\n",
      "16.0    260\n",
      "30.0    253\n",
      "26.0    252\n",
      "40.0    252\n",
      "13.0    249\n",
      "21.0    249\n",
      "4.0     249\n",
      "12.0    247\n",
      "18.0    247\n",
      "8.0     246\n",
      "24.0    245\n",
      "20.0    245\n",
      "23.0    243\n",
      "29.0    243\n",
      "17.0    242\n",
      "34.0    241\n",
      "36.0    241\n",
      "37.0    240\n",
      "35.0    239\n",
      "38.0    237\n",
      "19.0    235\n",
      "22.0    233\n",
      "10.0    233\n",
      "33.0    232\n",
      "6.0     231\n",
      "9.0     231\n",
      "11.0    229\n",
      "39.0    227\n",
      "14.0    227\n",
      "5.0     227\n",
      "1.0     226\n",
      "2.0     226\n",
      "31.0    223\n",
      "15.0    221\n",
      "7.0     217\n",
      "27.0    215\n",
      "25.0    205\n",
      "Name: count, dtype: int64\n"
     ]
    }
   ],
   "source": [
    "# Filter df_cleaned to keep only rows where TotalWorkingYears is between 0 and 100\n",
    "df_cleaned = df_cleaned[(df_cleaned['TotalWorkingYears'] >= 0) & (df_cleaned['TotalWorkingYears'] <= 100)]\n",
    "\n",
    "#Reuse code from above to see if the outliers are gone\n",
    "TotalWorkingYears_counts = df_cleaned['TotalWorkingYears'].value_counts()\n",
    "print(TotalWorkingYears_counts)"
   ]
  },
  {
   "cell_type": "code",
   "execution_count": 119,
   "id": "abefe1bf-d310-42e3-89fa-938383911497",
   "metadata": {},
   "outputs": [
    {
     "name": "stdout",
     "output_type": "stream",
     "text": [
      "TrainingTimesLastYear\n",
      "4.0    1633\n",
      "1.0    1616\n",
      "2.0    1610\n",
      "6.0    1579\n",
      "3.0    1577\n",
      "5.0    1566\n",
      "Name: count, dtype: int64\n"
     ]
    }
   ],
   "source": [
    "#Listing unique entries in TrainingTimesLastYear\n",
    "TrainingTimesLastYear_counts = df_cleaned['TrainingTimesLastYear'].value_counts()\n",
    "print(TrainingTimesLastYear_counts)"
   ]
  },
  {
   "cell_type": "code",
   "execution_count": null,
   "id": "f893eebc-6197-45f7-935c-8adc05b4e4a7",
   "metadata": {},
   "outputs": [],
   "source": [
    "#Looks good!"
   ]
  },
  {
   "cell_type": "code",
   "execution_count": 121,
   "id": "db5770bf-ea19-41f3-b99f-fa027928a70a",
   "metadata": {},
   "outputs": [
    {
     "name": "stdout",
     "output_type": "stream",
     "text": [
      "WorkLifeBalance\n",
      "1    2435\n",
      "2    2402\n",
      "4    2384\n",
      "3    2360\n",
      "Name: count, dtype: int64\n"
     ]
    }
   ],
   "source": [
    "#Listing unique entries in WorkLifeBalance\n",
    "WorkLifeBalance_counts = df_cleaned['WorkLifeBalance'].value_counts()\n",
    "print(WorkLifeBalance_counts)"
   ]
  },
  {
   "cell_type": "code",
   "execution_count": null,
   "id": "3746b266-ad2e-46d8-9018-aeacf1cf18d5",
   "metadata": {},
   "outputs": [],
   "source": [
    "#Looks good!"
   ]
  },
  {
   "cell_type": "code",
   "execution_count": 123,
   "id": "dc7841a7-81f0-4d6d-bb2e-9ff39aff3c4d",
   "metadata": {},
   "outputs": [
    {
     "name": "stdout",
     "output_type": "stream",
     "text": [
      "YearsAtCompany\n",
      "1     1018\n",
      "2      757\n",
      "3      705\n",
      "4      590\n",
      "5      518\n",
      "6      462\n",
      "7      441\n",
      "8      401\n",
      "9      376\n",
      "10     362\n",
      "11     324\n",
      "12     304\n",
      "14     282\n",
      "13     281\n",
      "15     251\n",
      "17     237\n",
      "16     220\n",
      "19     204\n",
      "18     196\n",
      "21     169\n",
      "20     157\n",
      "22     148\n",
      "23     147\n",
      "26     116\n",
      "24     112\n",
      "25     104\n",
      "27     101\n",
      "29      95\n",
      "28      90\n",
      "31      78\n",
      "30      75\n",
      "33      62\n",
      "32      49\n",
      "34      38\n",
      "35      35\n",
      "36      27\n",
      "37      24\n",
      "38      11\n",
      "39       8\n",
      "40       6\n",
      "Name: count, dtype: int64\n"
     ]
    }
   ],
   "source": [
    "#Listing unique entries in YearsAtCompany\n",
    "YearsAtCompany_counts = df_cleaned['YearsAtCompany'].value_counts()\n",
    "print(YearsAtCompany_counts)"
   ]
  },
  {
   "cell_type": "code",
   "execution_count": null,
   "id": "df56ebbc-c7a6-490d-a2ec-de026c3f2db3",
   "metadata": {},
   "outputs": [],
   "source": [
    "#Looks good!"
   ]
  },
  {
   "cell_type": "code",
   "execution_count": 125,
   "id": "ca3cf824-14a4-4196-96cc-7503ad5dee77",
   "metadata": {},
   "outputs": [
    {
     "name": "stdout",
     "output_type": "stream",
     "text": [
      "YearsInCurrentRole\n",
      "1     2412\n",
      "2     1328\n",
      "3      949\n",
      "4      775\n",
      "5      610\n",
      "6      501\n",
      "7      418\n",
      "8      355\n",
      "9      313\n",
      "10     269\n",
      "11     244\n",
      "12     212\n",
      "13     161\n",
      "14     146\n",
      "15     119\n",
      "16     118\n",
      "17      99\n",
      "18      92\n",
      "20      63\n",
      "19      59\n",
      "21      55\n",
      "22      49\n",
      "23      44\n",
      "26      28\n",
      "25      28\n",
      "24      28\n",
      "27      26\n",
      "31      18\n",
      "28      15\n",
      "30      13\n",
      "29      11\n",
      "32       8\n",
      "33       5\n",
      "34       4\n",
      "35       3\n",
      "37       3\n",
      "Name: count, dtype: int64\n"
     ]
    }
   ],
   "source": [
    "#Listing unique entries in YearsInCurrentRole\n",
    "YearsInCurrentRole_counts = df_cleaned['YearsInCurrentRole'].value_counts()\n",
    "print(YearsInCurrentRole_counts)"
   ]
  },
  {
   "cell_type": "code",
   "execution_count": 490,
   "id": "f4ae2e1d-67a9-4002-ab80-5b410b751ab3",
   "metadata": {},
   "outputs": [
    {
     "name": "stdout",
     "output_type": "stream",
     "text": [
      "YearsSinceLastPromotion\n",
      "1.0     2395\n",
      "2.0     1342\n",
      "3.0      952\n",
      "4.0      773\n",
      "5.0      590\n",
      "6.0      477\n",
      "7.0      426\n",
      "8.0      354\n",
      "9.0      326\n",
      "10.0     253\n",
      "11.0     248\n",
      "12.0     196\n",
      "13.0     172\n",
      "14.0     156\n",
      "15.0     128\n",
      "16.0     100\n",
      "17.0      97\n",
      "18.0      86\n",
      "19.0      84\n",
      "20.0      71\n",
      "22.0      52\n",
      "21.0      45\n",
      "23.0      39\n",
      "26.0      37\n",
      "28.0      30\n",
      "24.0      30\n",
      "27.0      27\n",
      "25.0      23\n",
      "29.0      19\n",
      "30.0      16\n",
      "31.0      12\n",
      "34.0       7\n",
      "32.0       7\n",
      "33.0       3\n",
      "36.0       3\n",
      "35.0       2\n",
      "37.0       2\n",
      "38.0       1\n",
      "Name: count, dtype: int64\n"
     ]
    }
   ],
   "source": [
    "#Listing unique entries in YearsSinceLastPromotion\n",
    "YearsSinceLastPromotion_counts = df_cleaned['YearsSinceLastPromotion'].value_counts()\n",
    "print(YearsSinceLastPromotion_counts)"
   ]
  },
  {
   "cell_type": "code",
   "execution_count": null,
   "id": "c85f7cd9-944c-4dcc-b231-d58345eb3987",
   "metadata": {},
   "outputs": [],
   "source": [
    "#Looks good!"
   ]
  },
  {
   "cell_type": "code",
   "execution_count": 127,
   "id": "a307ec96-85bd-4496-92be-d1e9b5c2374f",
   "metadata": {},
   "outputs": [
    {
     "name": "stdout",
     "output_type": "stream",
     "text": [
      "YearsWithCurrManager\n",
      "1        2430\n",
      "2        1352\n",
      "3         985\n",
      "4         777\n",
      "5         578\n",
      "6         492\n",
      "7         408\n",
      "8         361\n",
      "9         287\n",
      "10        245\n",
      "11        221\n",
      "12        213\n",
      "13        185\n",
      "14        149\n",
      "16        135\n",
      "15        120\n",
      "18         89\n",
      "17         86\n",
      "19         75\n",
      "21         54\n",
      "22         54\n",
      "20         53\n",
      "23         39\n",
      "24         35\n",
      "29         24\n",
      "27         24\n",
      "25         23\n",
      "26         21\n",
      "28         18\n",
      "30         14\n",
      "33          7\n",
      "34          7\n",
      "31          6\n",
      "32          5\n",
      "na          2\n",
      "37          2\n",
      "35          2\n",
      "36          1\n",
      "38          1\n",
      "-1000       1\n",
      "Name: count, dtype: int64\n"
     ]
    }
   ],
   "source": [
    "#Listing unique entries in YearsWithCurrManager\n",
    "YearsWithCurrManager_counts = df_cleaned['YearsWithCurrManager'].value_counts()\n",
    "print(YearsWithCurrManager_counts)"
   ]
  },
  {
   "cell_type": "code",
   "execution_count": 129,
   "id": "1b5760ca-7c15-4757-996d-3462c9e8b436",
   "metadata": {},
   "outputs": [
    {
     "name": "stdout",
     "output_type": "stream",
     "text": [
      "YearsWithCurrManager\n",
      "1     2430\n",
      "2     1352\n",
      "3      985\n",
      "4      777\n",
      "5      578\n",
      "6      492\n",
      "7      408\n",
      "8      361\n",
      "9      287\n",
      "10     245\n",
      "11     221\n",
      "12     213\n",
      "13     185\n",
      "14     149\n",
      "16     135\n",
      "15     120\n",
      "18      89\n",
      "17      86\n",
      "19      75\n",
      "22      54\n",
      "21      54\n",
      "20      53\n",
      "23      39\n",
      "24      35\n",
      "29      24\n",
      "27      24\n",
      "25      23\n",
      "26      21\n",
      "28      18\n",
      "30      14\n",
      "34       7\n",
      "33       7\n",
      "31       6\n",
      "32       5\n",
      "37       2\n",
      "35       2\n",
      "36       1\n",
      "38       1\n",
      "Name: count, dtype: int64\n"
     ]
    }
   ],
   "source": [
    "# Remove rows where YearsWithCurrManager is -1000\n",
    "df_cleaned = df_cleaned[(df_cleaned['YearsWithCurrManager'] != 'na') & (df_cleaned['YearsWithCurrManager'] != -1000)]\n",
    "\n",
    "YearsWithCurrManager_counts = df_cleaned['YearsWithCurrManager'].value_counts()\n",
    "print(YearsWithCurrManager_counts)"
   ]
  },
  {
   "cell_type": "code",
   "execution_count": 135,
   "id": "7d19823e-35ae-443f-9dff-5f1a04f3ba60",
   "metadata": {},
   "outputs": [],
   "source": [
    "#The dataset is finally clean!\n",
    "\n",
    "# Save the cleaned DataFrame as a CSV file on the desktop\n",
    "df_cleaned.to_excel(r'C:\\Users\\18014\\Desktop\\cleaned_employee_data_final.xlsx', index=False)\n"
   ]
  },
  {
   "cell_type": "code",
   "execution_count": null,
   "id": "ef2b8e52-cdf1-498e-b6cd-b2286c1002b3",
   "metadata": {},
   "outputs": [],
   "source": []
  }
 ],
 "metadata": {
  "kernelspec": {
   "display_name": "Python 3 (ipykernel)",
   "language": "python",
   "name": "python3"
  },
  "language_info": {
   "codemirror_mode": {
    "name": "ipython",
    "version": 3
   },
   "file_extension": ".py",
   "mimetype": "text/x-python",
   "name": "python",
   "nbconvert_exporter": "python",
   "pygments_lexer": "ipython3",
   "version": "3.12.4"
  }
 },
 "nbformat": 4,
 "nbformat_minor": 5
}
