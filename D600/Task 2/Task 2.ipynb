{
 "cells": [
  {
   "cell_type": "code",
   "execution_count": 3,
   "id": "c6552dd2-1a3b-4d91-b3ab-b4f2cf74bd0f",
   "metadata": {},
   "outputs": [],
   "source": [
    "import pandas as pd\n",
    "import seaborn as sns\n",
    "import matplotlib.pyplot as plt\n",
    "import statsmodels.api as sm\n",
    "import numpy as np \n",
    "from sklearn.model_selection import train_test_split\n",
    "from sklearn.metrics import accuracy_score, classification_report, confusion_matrix\n",
    "from statsmodels.stats.outliers_influence import variance_inflation_factor\n",
    "\n",
    "file_path = r\"C:\\Users\\18014\\Desktop\\Masters\\D600 - Statistical Data Mining\\Task 2\\D600 Task 2 Dataset 1 Housing Information.csv\"\n",
    "\n",
    "df = pd.read_csv(file_path)"
   ]
  },
  {
   "cell_type": "code",
   "execution_count": 4,
   "id": "21dc0797-968e-4dd7-b017-1946dd1cce5f",
   "metadata": {},
   "outputs": [
    {
     "data": {
      "text/html": [
       "<div>\n",
       "<style scoped>\n",
       "    .dataframe tbody tr th:only-of-type {\n",
       "        vertical-align: middle;\n",
       "    }\n",
       "\n",
       "    .dataframe tbody tr th {\n",
       "        vertical-align: top;\n",
       "    }\n",
       "\n",
       "    .dataframe thead th {\n",
       "        text-align: right;\n",
       "    }\n",
       "</style>\n",
       "<table border=\"1\" class=\"dataframe\">\n",
       "  <thead>\n",
       "    <tr style=\"text-align: right;\">\n",
       "      <th></th>\n",
       "      <th>ID</th>\n",
       "      <th>Price</th>\n",
       "      <th>SquareFootage</th>\n",
       "      <th>NumBathrooms</th>\n",
       "      <th>NumBedrooms</th>\n",
       "      <th>BackyardSpace</th>\n",
       "      <th>CrimeRate</th>\n",
       "      <th>SchoolRating</th>\n",
       "      <th>AgeOfHome</th>\n",
       "      <th>DistanceToCityCenter</th>\n",
       "      <th>...</th>\n",
       "      <th>RenovationQuality</th>\n",
       "      <th>LocalAmenities</th>\n",
       "      <th>TransportAccess</th>\n",
       "      <th>Fireplace</th>\n",
       "      <th>HouseColor</th>\n",
       "      <th>Garage</th>\n",
       "      <th>Floors</th>\n",
       "      <th>Windows</th>\n",
       "      <th>PreviousSalePrice</th>\n",
       "      <th>IsLuxury</th>\n",
       "    </tr>\n",
       "  </thead>\n",
       "  <tbody>\n",
       "    <tr>\n",
       "      <th>0</th>\n",
       "      <td>4922</td>\n",
       "      <td>255614.8992</td>\n",
       "      <td>566.62</td>\n",
       "      <td>1.000000</td>\n",
       "      <td>4</td>\n",
       "      <td>779.42</td>\n",
       "      <td>20.56</td>\n",
       "      <td>5.62</td>\n",
       "      <td>39.46</td>\n",
       "      <td>10.08</td>\n",
       "      <td>...</td>\n",
       "      <td>4.93</td>\n",
       "      <td>4.44</td>\n",
       "      <td>4.55</td>\n",
       "      <td>Yes</td>\n",
       "      <td>Blue</td>\n",
       "      <td>No</td>\n",
       "      <td>1</td>\n",
       "      <td>13</td>\n",
       "      <td>181861.54230</td>\n",
       "      <td>0</td>\n",
       "    </tr>\n",
       "    <tr>\n",
       "      <th>1</th>\n",
       "      <td>5009</td>\n",
       "      <td>155586.0947</td>\n",
       "      <td>1472.34</td>\n",
       "      <td>1.000000</td>\n",
       "      <td>2</td>\n",
       "      <td>656.13</td>\n",
       "      <td>15.62</td>\n",
       "      <td>5.63</td>\n",
       "      <td>40.51</td>\n",
       "      <td>7.89</td>\n",
       "      <td>...</td>\n",
       "      <td>4.08</td>\n",
       "      <td>5.56</td>\n",
       "      <td>6.83</td>\n",
       "      <td>No</td>\n",
       "      <td>Green</td>\n",
       "      <td>No</td>\n",
       "      <td>1</td>\n",
       "      <td>17</td>\n",
       "      <td>50042.59757</td>\n",
       "      <td>0</td>\n",
       "    </tr>\n",
       "    <tr>\n",
       "      <th>2</th>\n",
       "      <td>4450</td>\n",
       "      <td>131050.8324</td>\n",
       "      <td>550.00</td>\n",
       "      <td>1.779354</td>\n",
       "      <td>3</td>\n",
       "      <td>754.57</td>\n",
       "      <td>12.47</td>\n",
       "      <td>9.20</td>\n",
       "      <td>48.38</td>\n",
       "      <td>23.74</td>\n",
       "      <td>...</td>\n",
       "      <td>4.26</td>\n",
       "      <td>8.07</td>\n",
       "      <td>8.48</td>\n",
       "      <td>Yes</td>\n",
       "      <td>Green</td>\n",
       "      <td>Yes</td>\n",
       "      <td>2</td>\n",
       "      <td>34</td>\n",
       "      <td>48400.34440</td>\n",
       "      <td>0</td>\n",
       "    </tr>\n",
       "    <tr>\n",
       "      <th>3</th>\n",
       "      <td>1070</td>\n",
       "      <td>151361.7125</td>\n",
       "      <td>941.81</td>\n",
       "      <td>2.035254</td>\n",
       "      <td>2</td>\n",
       "      <td>439.59</td>\n",
       "      <td>22.22</td>\n",
       "      <td>7.08</td>\n",
       "      <td>94.67</td>\n",
       "      <td>5.22</td>\n",
       "      <td>...</td>\n",
       "      <td>4.45</td>\n",
       "      <td>5.00</td>\n",
       "      <td>6.27</td>\n",
       "      <td>Yes</td>\n",
       "      <td>Red</td>\n",
       "      <td>No</td>\n",
       "      <td>1</td>\n",
       "      <td>14</td>\n",
       "      <td>84594.12145</td>\n",
       "      <td>0</td>\n",
       "    </tr>\n",
       "    <tr>\n",
       "      <th>4</th>\n",
       "      <td>400</td>\n",
       "      <td>113167.6128</td>\n",
       "      <td>550.00</td>\n",
       "      <td>1.064644</td>\n",
       "      <td>3</td>\n",
       "      <td>353.03</td>\n",
       "      <td>8.28</td>\n",
       "      <td>5.93</td>\n",
       "      <td>16.80</td>\n",
       "      <td>43.13</td>\n",
       "      <td>...</td>\n",
       "      <td>3.36</td>\n",
       "      <td>5.46</td>\n",
       "      <td>6.99</td>\n",
       "      <td>No</td>\n",
       "      <td>White</td>\n",
       "      <td>Yes</td>\n",
       "      <td>1</td>\n",
       "      <td>21</td>\n",
       "      <td>22934.59654</td>\n",
       "      <td>0</td>\n",
       "    </tr>\n",
       "    <tr>\n",
       "      <th>...</th>\n",
       "      <td>...</td>\n",
       "      <td>...</td>\n",
       "      <td>...</td>\n",
       "      <td>...</td>\n",
       "      <td>...</td>\n",
       "      <td>...</td>\n",
       "      <td>...</td>\n",
       "      <td>...</td>\n",
       "      <td>...</td>\n",
       "      <td>...</td>\n",
       "      <td>...</td>\n",
       "      <td>...</td>\n",
       "      <td>...</td>\n",
       "      <td>...</td>\n",
       "      <td>...</td>\n",
       "      <td>...</td>\n",
       "      <td>...</td>\n",
       "      <td>...</td>\n",
       "      <td>...</td>\n",
       "      <td>...</td>\n",
       "      <td>...</td>\n",
       "    </tr>\n",
       "    <tr>\n",
       "      <th>6995</th>\n",
       "      <td>6987</td>\n",
       "      <td>307821.1758</td>\n",
       "      <td>550.00</td>\n",
       "      <td>2.111022</td>\n",
       "      <td>4</td>\n",
       "      <td>892.35</td>\n",
       "      <td>11.89</td>\n",
       "      <td>7.97</td>\n",
       "      <td>28.18</td>\n",
       "      <td>19.23</td>\n",
       "      <td>...</td>\n",
       "      <td>4.76</td>\n",
       "      <td>3.81</td>\n",
       "      <td>6.87</td>\n",
       "      <td>No</td>\n",
       "      <td>White</td>\n",
       "      <td>Yes</td>\n",
       "      <td>1</td>\n",
       "      <td>18</td>\n",
       "      <td>241131.63070</td>\n",
       "      <td>1</td>\n",
       "    </tr>\n",
       "    <tr>\n",
       "      <th>6996</th>\n",
       "      <td>6995</td>\n",
       "      <td>421368.8869</td>\n",
       "      <td>1726.12</td>\n",
       "      <td>4.056115</td>\n",
       "      <td>2</td>\n",
       "      <td>943.19</td>\n",
       "      <td>34.06</td>\n",
       "      <td>5.82</td>\n",
       "      <td>90.45</td>\n",
       "      <td>17.60</td>\n",
       "      <td>...</td>\n",
       "      <td>5.31</td>\n",
       "      <td>9.84</td>\n",
       "      <td>10.00</td>\n",
       "      <td>No</td>\n",
       "      <td>White</td>\n",
       "      <td>Yes</td>\n",
       "      <td>1</td>\n",
       "      <td>18</td>\n",
       "      <td>481604.80730</td>\n",
       "      <td>1</td>\n",
       "    </tr>\n",
       "    <tr>\n",
       "      <th>6997</th>\n",
       "      <td>6996</td>\n",
       "      <td>473382.5348</td>\n",
       "      <td>1026.36</td>\n",
       "      <td>2.077177</td>\n",
       "      <td>5</td>\n",
       "      <td>149.31</td>\n",
       "      <td>0.10</td>\n",
       "      <td>8.81</td>\n",
       "      <td>31.79</td>\n",
       "      <td>11.59</td>\n",
       "      <td>...</td>\n",
       "      <td>4.98</td>\n",
       "      <td>7.47</td>\n",
       "      <td>2.96</td>\n",
       "      <td>No</td>\n",
       "      <td>Green</td>\n",
       "      <td>No</td>\n",
       "      <td>1</td>\n",
       "      <td>13</td>\n",
       "      <td>380555.49390</td>\n",
       "      <td>1</td>\n",
       "    </tr>\n",
       "    <tr>\n",
       "      <th>6998</th>\n",
       "      <td>6998</td>\n",
       "      <td>343397.9756</td>\n",
       "      <td>2218.22</td>\n",
       "      <td>1.000000</td>\n",
       "      <td>4</td>\n",
       "      <td>526.81</td>\n",
       "      <td>11.18</td>\n",
       "      <td>9.20</td>\n",
       "      <td>15.21</td>\n",
       "      <td>3.96</td>\n",
       "      <td>...</td>\n",
       "      <td>4.68</td>\n",
       "      <td>7.66</td>\n",
       "      <td>6.12</td>\n",
       "      <td>No</td>\n",
       "      <td>Blue</td>\n",
       "      <td>Yes</td>\n",
       "      <td>1</td>\n",
       "      <td>10</td>\n",
       "      <td>442610.31710</td>\n",
       "      <td>0</td>\n",
       "    </tr>\n",
       "    <tr>\n",
       "      <th>6999</th>\n",
       "      <td>7000</td>\n",
       "      <td>438060.8193</td>\n",
       "      <td>1553.57</td>\n",
       "      <td>3.988377</td>\n",
       "      <td>4</td>\n",
       "      <td>844.06</td>\n",
       "      <td>18.80</td>\n",
       "      <td>10.00</td>\n",
       "      <td>26.07</td>\n",
       "      <td>24.40</td>\n",
       "      <td>...</td>\n",
       "      <td>8.80</td>\n",
       "      <td>6.66</td>\n",
       "      <td>5.19</td>\n",
       "      <td>No</td>\n",
       "      <td>White</td>\n",
       "      <td>Yes</td>\n",
       "      <td>1</td>\n",
       "      <td>19</td>\n",
       "      <td>492214.95980</td>\n",
       "      <td>1</td>\n",
       "    </tr>\n",
       "  </tbody>\n",
       "</table>\n",
       "<p>7000 rows × 22 columns</p>\n",
       "</div>"
      ],
      "text/plain": [
       "        ID        Price  SquareFootage  NumBathrooms  NumBedrooms  \\\n",
       "0     4922  255614.8992         566.62      1.000000            4   \n",
       "1     5009  155586.0947        1472.34      1.000000            2   \n",
       "2     4450  131050.8324         550.00      1.779354            3   \n",
       "3     1070  151361.7125         941.81      2.035254            2   \n",
       "4      400  113167.6128         550.00      1.064644            3   \n",
       "...    ...          ...            ...           ...          ...   \n",
       "6995  6987  307821.1758         550.00      2.111022            4   \n",
       "6996  6995  421368.8869        1726.12      4.056115            2   \n",
       "6997  6996  473382.5348        1026.36      2.077177            5   \n",
       "6998  6998  343397.9756        2218.22      1.000000            4   \n",
       "6999  7000  438060.8193        1553.57      3.988377            4   \n",
       "\n",
       "      BackyardSpace  CrimeRate  SchoolRating  AgeOfHome  DistanceToCityCenter  \\\n",
       "0            779.42      20.56          5.62      39.46                 10.08   \n",
       "1            656.13      15.62          5.63      40.51                  7.89   \n",
       "2            754.57      12.47          9.20      48.38                 23.74   \n",
       "3            439.59      22.22          7.08      94.67                  5.22   \n",
       "4            353.03       8.28          5.93      16.80                 43.13   \n",
       "...             ...        ...           ...        ...                   ...   \n",
       "6995         892.35      11.89          7.97      28.18                 19.23   \n",
       "6996         943.19      34.06          5.82      90.45                 17.60   \n",
       "6997         149.31       0.10          8.81      31.79                 11.59   \n",
       "6998         526.81      11.18          9.20      15.21                  3.96   \n",
       "6999         844.06      18.80         10.00      26.07                 24.40   \n",
       "\n",
       "      ...  RenovationQuality  LocalAmenities  TransportAccess  Fireplace  \\\n",
       "0     ...               4.93            4.44             4.55        Yes   \n",
       "1     ...               4.08            5.56             6.83         No   \n",
       "2     ...               4.26            8.07             8.48        Yes   \n",
       "3     ...               4.45            5.00             6.27        Yes   \n",
       "4     ...               3.36            5.46             6.99         No   \n",
       "...   ...                ...             ...              ...        ...   \n",
       "6995  ...               4.76            3.81             6.87         No   \n",
       "6996  ...               5.31            9.84            10.00         No   \n",
       "6997  ...               4.98            7.47             2.96         No   \n",
       "6998  ...               4.68            7.66             6.12         No   \n",
       "6999  ...               8.80            6.66             5.19         No   \n",
       "\n",
       "      HouseColor Garage Floors Windows  PreviousSalePrice  IsLuxury  \n",
       "0           Blue     No      1      13       181861.54230         0  \n",
       "1          Green     No      1      17        50042.59757         0  \n",
       "2          Green    Yes      2      34        48400.34440         0  \n",
       "3            Red     No      1      14        84594.12145         0  \n",
       "4          White    Yes      1      21        22934.59654         0  \n",
       "...          ...    ...    ...     ...                ...       ...  \n",
       "6995       White    Yes      1      18       241131.63070         1  \n",
       "6996       White    Yes      1      18       481604.80730         1  \n",
       "6997       Green     No      1      13       380555.49390         1  \n",
       "6998        Blue    Yes      1      10       442610.31710         0  \n",
       "6999       White    Yes      1      19       492214.95980         1  \n",
       "\n",
       "[7000 rows x 22 columns]"
      ]
     },
     "execution_count": 4,
     "metadata": {},
     "output_type": "execute_result"
    }
   ],
   "source": [
    "df"
   ]
  },
  {
   "cell_type": "code",
   "execution_count": 15,
   "id": "415fc8de-ab5b-40ae-b532-af2a6927d0f8",
   "metadata": {},
   "outputs": [
    {
     "name": "stdout",
     "output_type": "stream",
     "text": [
      "Frequency of each category:\n",
      "IsLuxury\n",
      "1    3528\n",
      "0    3472\n",
      "Name: count, dtype: int64\n",
      "\n",
      "Proportion of each category:\n",
      "IsLuxury\n",
      "1    0.504\n",
      "0    0.496\n",
      "Name: proportion, dtype: float64\n"
     ]
    }
   ],
   "source": [
    "#Descriptive statistics for the dependent variable\n",
    "descriptive_stats = df['IsLuxury'].value_counts()\n",
    "proportions = df['IsLuxury'].value_counts(normalize=True)\n",
    "\n",
    "print(\"Frequency of each category:\")\n",
    "print(descriptive_stats)\n",
    "\n",
    "print(\"\\nProportion of each category:\")\n",
    "print(proportions)"
   ]
  },
  {
   "cell_type": "code",
   "execution_count": 11,
   "id": "7945881a-6dc7-4a36-8872-1ae1aff47777",
   "metadata": {},
   "outputs": [
    {
     "name": "stdout",
     "output_type": "stream",
     "text": [
      "       SquareFootage  NumBedrooms\n",
      "count    7000.000000  7000.000000\n",
      "mean     1048.947459     3.008571\n",
      "std       426.010482     1.021940\n",
      "min       550.000000     1.000000\n",
      "25%       660.815000     2.000000\n",
      "50%       996.320000     3.000000\n",
      "75%      1342.292500     4.000000\n",
      "max      2874.700000     7.000000\n"
     ]
    }
   ],
   "source": [
    "#Descriptive statistics for independent variables\n",
    "variable_columns = ['SquareFootage', 'NumBedrooms']\n",
    "stats = df[variable_columns].describe()\n",
    "\n",
    "# Display the results\n",
    "print(stats)"
   ]
  },
  {
   "cell_type": "code",
   "execution_count": 17,
   "id": "8b303eeb-d558-4a01-87bc-3fa6bb3541a2",
   "metadata": {},
   "outputs": [
    {
     "data": {
      "image/png": "[encoded data removed]",
      "text/plain": [
       "<Figure size 800x600 with 1 Axes>"
      ]
     },
     "metadata": {},
     "output_type": "display_data"
    },
    {
     "data": {
      "image/png": "[encoded data removed]",
      "text/plain": [
       "<Figure size 800x600 with 1 Axes>"
      ]
     },
     "metadata": {},
     "output_type": "display_data"
    },
    {
     "data": {
      "text/plain": [
       "Text(0, 0.5, 'Count')"
      ]
     },
     "execution_count": 17,
     "metadata": {},
     "output_type": "execute_result"
    },
    {
     "data": {
      "image/png": "[encoded data removed]",
      "text/plain": [
       "<Figure size 640x480 with 1 Axes>"
      ]
     },
     "metadata": {},
     "output_type": "display_data"
    }
   ],
   "source": [
    "#Univariate visualizations\n",
    "#Histogram of Price distribution\n",
    "plt.figure(figsize=(8, 6))\n",
    "\n",
    "sns.countplot(x='IsLuxury', data=df)\n",
    "plt.title('Luxury vs Non-Luxury Homes')\n",
    "plt.xlabel('IsLuxury (1 = Luxury, 0 = Not Luxury)')\n",
    "plt.ylabel('Count')\n",
    "\n",
    "\n",
    "#Histogram of square Footage distribution\n",
    "plt.figure(figsize=(8, 6))\n",
    "sns.histplot(df['SquareFootage'], kde=True, bins=10)\n",
    "plt.title('Distribution of Square Footage')\n",
    "plt.xlabel('Square Footage')\n",
    "plt.ylabel('Frequency')\n",
    "plt.show()\n",
    "\n",
    "sns.countplot(x='NumBedrooms', data=df)\n",
    "plt.title('Distribution of Number of Bedrooms')\n",
    "plt.xlabel('Number of Bedrooms')\n",
    "plt.ylabel('Count')"
   ]
  },
  {
   "cell_type": "code",
   "execution_count": 9,
   "id": "48cc882d-3d2f-4ed7-9fdb-6d2bb0e8715e",
   "metadata": {},
   "outputs": [
    {
     "data": {
      "image/png": "[encoded data removed]",
      "text/plain": [
       "<Figure size 500x500 with 1 Axes>"
      ]
     },
     "metadata": {},
     "output_type": "display_data"
    },
    {
     "data": {
      "image/png": "[encoded data removed]",
      "text/plain": [
       "<Figure size 500x500 with 1 Axes>"
      ]
     },
     "metadata": {},
     "output_type": "display_data"
    }
   ],
   "source": [
    "#Bivariate visualizations\n",
    "\n",
    "#Box plot for NumBedrooms vs IsLuxury\n",
    "plt.figure(figsize=(5, 5))\n",
    "sns.boxplot(x='IsLuxury', y='NumBedrooms', data=df)\n",
    "plt.title('Number of Bedrooms vs Luxury')\n",
    "plt.xlabel('0 = Not Luxury, 1 = Luxury')\n",
    "plt.ylabel('Number of Bedrooms')\n",
    "plt.show()\n",
    "\n",
    "#Box plot for SquareFootage vs IsLuxury\n",
    "plt.figure(figsize=(5, 5))\n",
    "sns.boxplot(x='IsLuxury', y='SquareFootage', data=df)\n",
    "plt.title('Square Footage vs Luxury')\n",
    "plt.xlabel('0 = Not Luxury, 1 = Luxury')\n",
    "plt.ylabel('Square Footage')\n",
    "plt.show()"
   ]
  },
  {
   "cell_type": "code",
   "execution_count": 11,
   "id": "61658f62-0aad-4289-9481-bf4a82b47fac",
   "metadata": {},
   "outputs": [
    {
     "name": "stdout",
     "output_type": "stream",
     "text": [
      "Optimization terminated successfully.\n",
      "         Current function value: 0.570792\n",
      "         Iterations 6\n",
      "                           Logit Regression Results                           \n",
      "==============================================================================\n",
      "Dep. Variable:               IsLuxury   No. Observations:                 5600\n",
      "Model:                          Logit   Df Residuals:                     5597\n",
      "Method:                           MLE   Df Model:                            2\n",
      "Date:                Mon, 21 Oct 2024   Pseudo R-squ.:                  0.1765\n",
      "Time:                        14:47:37   Log-Likelihood:                -3196.4\n",
      "converged:                       True   LL-Null:                       -3881.6\n",
      "Covariance Type:            nonrobust   LLR p-value:                2.765e-298\n",
      "=================================================================================\n",
      "                    coef    std err          z      P>|z|      [0.025      0.975]\n",
      "---------------------------------------------------------------------------------\n",
      "const            -4.2880      0.141    -30.419      0.000      -4.564      -4.012\n",
      "SquareFootage     0.0021   8.07e-05     25.526      0.000       0.002       0.002\n",
      "NumBedrooms       0.7134      0.033     21.747      0.000       0.649       0.778\n",
      "=================================================================================\n"
     ]
    }
   ],
   "source": [
    "#Defining the independent variables (SquareFootage, NumBedrooms)\n",
    "X = df[['SquareFootage', 'NumBedrooms']]\n",
    "\n",
    "#Defining the dependent variable (IsLuxury)\n",
    "y = df['IsLuxury']\n",
    "\n",
    "#Split the data 80/20 for training and testing\n",
    "X_train, X_test, y_train, y_test = train_test_split(X, y, test_size=0.2, random_state=1)\n",
    "\n",
    "#Add a constant/intercept to the model\n",
    "X_train = sm.add_constant(X_train)\n",
    "\n",
    "#Fitting to logistic regression\n",
    "logit_model = sm.Logit(y_train, X_train).fit()\n",
    "\n",
    "print(logit_model.summary())"
   ]
  },
  {
   "cell_type": "code",
   "execution_count": 13,
   "id": "cb6ff9b6-5ed2-476c-adf4-ba8cc97bae5d",
   "metadata": {},
   "outputs": [
    {
     "name": "stdout",
     "output_type": "stream",
     "text": [
      "      Actual  Predicted\n",
      "2305       0          0\n",
      "4388       1          1\n",
      "1686       0          0\n",
      "4945       1          1\n",
      "4197       1          1\n"
     ]
    }
   ],
   "source": [
    "#Predicting the training set\n",
    "y_train_pred = logit_model.predict(X_train)\n",
    "\n",
    "#Converting probabilities to binary\n",
    "y_train_pred_binary = [1 if prob > 0.5 else 0 for prob in y_train_pred]\n",
    "\n",
    "#Add a constant to X_test\n",
    "X_test = sm.add_constant(X_test)\n",
    "\n",
    "#Predicting probabilities on test\n",
    "y_test_pred = logit_model.predict(X_test)\n",
    "\n",
    "#Converting probabilities to binary\n",
    "y_test_pred_binary = np.where(y_test_pred > 0.5, 1, 0)\n",
    "\n",
    "#Comparing the actual vs predicted values in a DataFrame\n",
    "comparison = pd.DataFrame({'Actual': y_test, 'Predicted': y_test_pred_binary})\n",
    "print(comparison.head())"
   ]
  },
  {
   "cell_type": "code",
   "execution_count": 15,
   "id": "8dc148f9-b87a-4b71-bc7f-2bbdc7b40968",
   "metadata": {},
   "outputs": [
    {
     "name": "stdout",
     "output_type": "stream",
     "text": [
      "Training Accuracy Score: 0.7141071428571428\n",
      "Test Accuracy Score: 0.7142857142857143\n",
      "Training Confusion Matrix:\n",
      "[[2035  755]\n",
      " [ 846 1964]]\n",
      "Test Confusion Matrix:\n",
      "[[521 161]\n",
      " [239 479]]\n"
     ]
    }
   ],
   "source": [
    "#Accuracy scores\n",
    "train_accuracy = accuracy_score(y_train, y_train_pred_binary)\n",
    "test_accuracy = accuracy_score(y_test, y_test_pred_binary)\n",
    "\n",
    "print(f'Training Accuracy Score: {train_accuracy}')\n",
    "print(f'Test Accuracy Score: {test_accuracy}')\n",
    "\n",
    "#Confusion matrices\n",
    "train_conf_matrix = confusion_matrix(y_train, y_train_pred_binary)\n",
    "test_conf_matrix = confusion_matrix(y_test, y_test_pred_binary)\n",
    "\n",
    "print('Training Confusion Matrix:')\n",
    "print(train_conf_matrix)\n",
    "print('Test Confusion Matrix:')\n",
    "print(test_conf_matrix)"
   ]
  },
  {
   "cell_type": "code",
   "execution_count": 17,
   "id": "aa55f7a3-6f4a-4967-80d5-c7c1546e83bd",
   "metadata": {},
   "outputs": [],
   "source": [
    "#Optimization begins here"
   ]
  },
  {
   "cell_type": "code",
   "execution_count": 19,
   "id": "e9d90cdf-5d7b-4349-a8d1-7dc8405320cc",
   "metadata": {},
   "outputs": [
    {
     "name": "stdout",
     "output_type": "stream",
     "text": [
      "Optimization terminated successfully.\n",
      "         Current function value: 0.571323\n",
      "         Iterations 6\n",
      "                           Logit Regression Results                           \n",
      "==============================================================================\n",
      "Dep. Variable:               IsLuxury   No. Observations:                 7000\n",
      "Model:                          Logit   Df Residuals:                     6997\n",
      "Method:                           MLE   Df Model:                            2\n",
      "Date:                Mon, 21 Oct 2024   Pseudo R-squ.:                  0.1757\n",
      "Time:                        14:47:42   Log-Likelihood:                -3999.3\n",
      "converged:                       True   LL-Null:                       -4851.8\n",
      "Covariance Type:            nonrobust   LLR p-value:                     0.000\n",
      "=================================================================================\n",
      "                    coef    std err          z      P>|z|      [0.025      0.975]\n",
      "---------------------------------------------------------------------------------\n",
      "const            -4.2498      0.125    -33.947      0.000      -4.495      -4.004\n",
      "SquareFootage     0.0020    7.2e-05     28.333      0.000       0.002       0.002\n",
      "NumBedrooms       0.7160      0.029     24.552      0.000       0.659       0.773\n",
      "=================================================================================\n"
     ]
    }
   ],
   "source": [
    "#Backward stepwise elimination for optimization\n",
    "X = df[['SquareFootage', 'NumBedrooms']]\n",
    "y = df['IsLuxury']\n",
    "\n",
    "X = sm.add_constant(X)\n",
    "\n",
    "#Fitting the model\n",
    "model = sm.Logit(y, X).fit()\n",
    "\n",
    "#Backward Elimination code\n",
    "def backward_elimination(X, y, threshold_in=0.05):\n",
    "    features = X.columns.tolist()\n",
    "    \n",
    "    while True:\n",
    "        model = sm.Logit(y, X[features]).fit(disp=0)\n",
    "        \n",
    "        p_values = model.pvalues\n",
    "        \n",
    "        max_p_value = p_values.max()\n",
    "        \n",
    "        if max_p_value > threshold_in:\n",
    "            excluded_feature = p_values.idxmax()\n",
    "            features.remove(excluded_feature)\n",
    "            print(f'Removed: {excluded_feature} with p-value: {max_p_value}')\n",
    "        else:\n",
    "            break\n",
    "    \n",
    "    return features, model\n",
    "\n",
    "#Perform backward elimination\n",
    "final_features, optimized_model = backward_elimination(X, y)\n",
    "\n",
    "#Displaying a summary of the optimized model\n",
    "print(optimized_model.summary())"
   ]
  },
  {
   "cell_type": "code",
   "execution_count": 21,
   "id": "45073f09-0054-49b8-8545-c827ab7b2beb",
   "metadata": {},
   "outputs": [
    {
     "name": "stdout",
     "output_type": "stream",
     "text": [
      "Test Results:\n",
      "      Actual  Predicted_Probability  Predicted\n",
      "2305       0               0.155008          0\n",
      "4388       1               0.598030          1\n",
      "1686       0               0.179974          0\n",
      "4945       1               0.516358          1\n",
      "4197       1               0.889806          1\n",
      "...      ...                    ...        ...\n",
      "2090       0               0.668759          1\n",
      "997        0               0.338520          0\n",
      "4672       1               0.351576          0\n",
      "3152       0               0.329909          0\n",
      "5823       1               0.472016          0\n",
      "\n",
      "[1400 rows x 3 columns]\n"
     ]
    }
   ],
   "source": [
    "#Running the prediction of the test data on the optimized model\n",
    "y_test_pred_prob = optimized_model.predict(X_test[final_features])\n",
    "y_test_pred_binary = [1 if prob > 0.5 else 0 for prob in y_test_pred_prob]\n",
    "\n",
    "#A new dataframe for the results\n",
    "results_df = pd.DataFrame({\n",
    "    'Actual': y_test,\n",
    "    'Predicted_Probability': y_test_pred_prob,\n",
    "    'Predicted': y_test_pred_binary})\n",
    "\n",
    "#Showing the results of the predictions on the optimized model\n",
    "print(\"Test Results:\")\n",
    "print(results_df)"
   ]
  },
  {
   "cell_type": "code",
   "execution_count": 23,
   "id": "a5413625-dbbb-4ab8-b0c5-fc470cdbc82c",
   "metadata": {},
   "outputs": [
    {
     "name": "stdout",
     "output_type": "stream",
     "text": [
      "Confusion Matrix:\n",
      "[[517 165]\n",
      " [228 490]]\n"
     ]
    }
   ],
   "source": [
    "y_pred = model.predict(X_test)\n",
    "y_pred_bin = [1 if x >= 0.5 else 0 for x in y_pred]\n",
    "cm = confusion_matrix(y_test, y_pred_bin)\n",
    "print(\"Confusion Matrix:\")\n",
    "print(cm)"
   ]
  },
  {
   "cell_type": "code",
   "execution_count": 25,
   "id": "0893eaac-24d8-49c2-b112-706e08f94fc7",
   "metadata": {},
   "outputs": [
    {
     "name": "stdout",
     "output_type": "stream",
     "text": [
      "Accuracy: 0.7192857142857143\n"
     ]
    }
   ],
   "source": [
    "accuracy = accuracy_score(y_test, y_pred_bin)\n",
    "\n",
    "print(f\"Accuracy: {accuracy}\")"
   ]
  },
  {
   "cell_type": "code",
   "execution_count": 27,
   "id": "29f8285c-c094-4e1b-93ec-ffb9ae2518ca",
   "metadata": {},
   "outputs": [],
   "source": [
    "#----Checking for verification of assumptions starts here"
   ]
  },
  {
   "cell_type": "code",
   "execution_count": 29,
   "id": "3bace62a-56d0-4272-937a-10080a126283",
   "metadata": {},
   "outputs": [
    {
     "name": "stdout",
     "output_type": "stream",
     "text": [
      "        Variable        VIF\n",
      "0          const  14.564638\n",
      "1  SquareFootage   1.007749\n",
      "2    NumBedrooms   1.007749\n"
     ]
    }
   ],
   "source": [
    "#1. Testing for collinearilty between square footage and number of bedrooms\n",
    "X = df[['SquareFootage', 'NumBedrooms']]\n",
    "X = sm.add_constant(X)\n",
    "\n",
    "# Calculating Variance Inflation Factor\n",
    "vif = pd.DataFrame()\n",
    "vif['Variable'] = X.columns\n",
    "vif['VIF'] = [variance_inflation_factor(X.values, i) for i in range(X.shape[1])]\n",
    "\n",
    "# Display the VIF values\n",
    "print(vif)"
   ]
  },
  {
   "cell_type": "code",
   "execution_count": 31,
   "id": "96e5bc30-d890-48eb-bd5f-eb86a1603c62",
   "metadata": {},
   "outputs": [
    {
     "name": "stdout",
     "output_type": "stream",
     "text": [
      "[0 1]\n"
     ]
    }
   ],
   "source": [
    "#2. Checking the unique values of IsLuxury\n",
    "print(df['IsLuxury'].unique())"
   ]
  },
  {
   "cell_type": "code",
   "execution_count": 33,
   "id": "595a2f2a-2dc2-46ed-ab8b-ff90a4433141",
   "metadata": {},
   "outputs": [
    {
     "name": "stdout",
     "output_type": "stream",
     "text": [
      "Number of duplicate rows: 0\n"
     ]
    }
   ],
   "source": [
    "#3. Checking for independce by looking for duplicate rows in the dataset\n",
    "duplicates = df.duplicated().sum()\n",
    "\n",
    "print(f'Number of duplicate rows: {duplicates}')"
   ]
  },
  {
   "cell_type": "code",
   "execution_count": 35,
   "id": "cffe8d33-94bc-46ea-b8f3-bfe5ac89e9fd",
   "metadata": {},
   "outputs": [],
   "source": [
    "#4. Checking for proper sample size was done at the beginning, showing 7,000 data entries"
   ]
  }
 ],
 "metadata": {
  "kernelspec": {
   "display_name": "Python 3 (ipykernel)",
   "language": "python",
   "name": "python3"
  },
  "language_info": {
   "codemirror_mode": {
    "name": "ipython",
    "version": 3
   },
   "file_extension": ".py",
   "mimetype": "text/x-python",
   "name": "python",
   "nbconvert_exporter": "python",
   "pygments_lexer": "ipython3",
   "version": "3.12.4"
  }
 },
 "nbformat": 4,
 "nbformat_minor": 5
}
